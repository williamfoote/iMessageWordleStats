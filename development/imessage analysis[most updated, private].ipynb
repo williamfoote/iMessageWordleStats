{
 "cells": [
  {
   "cell_type": "code",
   "execution_count": 19,
   "id": "7be6decb",
   "metadata": {
    "id": "7be6decb"
   },
   "outputs": [],
   "source": [
    "import sqlite3\n",
    "import pandas as pd\n",
    "import datetime as datetime\n",
    "import numpy as np\n",
    "from urllib import parse\n",
    "import re\n",
    "import matplotlib.pyplot as plt\n",
    "plt.style.use('fivethirtyeight')\n",
    "%matplotlib inline\n",
    "import plotly.express as px"
   ]
  },
  {
   "cell_type": "code",
   "execution_count": 4,
   "id": "7b4468d2",
   "metadata": {},
   "outputs": [],
   "source": [
    "import sqlite3\n",
    "import pandas as pd\n",
    "import datetime as datetime\n",
    "import numpy as np\n",
    "from urllib import parse\n",
    "import re\n",
    "#Helper function for decoding blob located withing the attributedBody column in chat.db\n",
    "#In my case I use the regex function here to only find string sequences in the blob that start with https. and end with ?\n",
    "#Regex101 website helped a lot with creating this regex function\n",
    "#Also not that the \"ignore\" part in url_l.decode(\"utf-8\", \"ignore\") will ommit certain special characters.\n",
    "#There are different values you can use for the .decode function so play around with it until you get what works for you\n",
    "def split_it(url_l):\n",
    "    url_l = url_l.decode(\"utf-8\", \"ignore\")\n",
    "    url_l = ''.join(url_l.split())\n",
    "    results = re.search('https.+?(?=[?])', url_l)\n",
    "    if results != None:\n",
    "        return results.group()\n",
    "    return None\n",
    "def getSongs(chat_id, last_updated):\n",
    "    conn = sqlite3.connect('/Users/williamfoote/Library/Messages/chat.db')\n",
    "    cur = conn.cursor()\n",
    "    cur.execute(\" select name from sqlite_master where type = 'table' \")\n",
    "    #Here we are converting the date column from the chat.db file into a more readable datetime format\n",
    "    messages = pd.read_sql_query('''select ROWID, text, attributedBody, date, handle_id,\n",
    "    datetime(date/1000000000 + strftime(\"%s\", \"2001-01-01\") ,\"unixepoch\",\"localtime\") as\n",
    "    date_utc FROM message''', conn)\n",
    "    messages.rename(columns={'ROWID' : 'message_id'}, inplace = True)\n",
    "    handles = pd.read_sql_query(\"select ROWID, id from handle\", conn)\n",
    "    handles.rename(columns={'id' : 'phone_number', 'ROWID': 'handle_id'}, inplace = True)\n",
    "    messagesAndHandlesJoined = pd.merge(messages, handles, on ='handle_id', how='left')\n",
    "    chatMessagesJoined = pd.read_sql_query(\"select chat_id, message_id from chat_message_join\", conn)\n",
    "    chatMessagesAndHandlesJoined = pd.merge(messagesAndHandlesJoined,\n",
    "    chatMessagesJoined, on = 'message_id', how='left')\n",
    "    #chat id will correspond to a chat in your chat.db file\n",
    "    #you can print out the chatMessagesJoined table to get an idea of which contacts correspond to which chat\n",
    "    blobby = chatMessagesAndHandlesJoined[chatMessagesAndHandlesJoined['chat_id'] == chat_id]\n",
    "    blobby = blobby[['text', 'attributedBody','date_utc']]\n",
    "    blobby['decoded_blob'] = blobby['attributedBody'].apply(split_it) #Applying the regex function to every blob\n",
    "    return blobby"
   ]
  },
  {
   "cell_type": "code",
   "execution_count": 28,
   "id": "e9b64d37",
   "metadata": {
    "id": "e9b64d37",
    "outputId": "c4d2eded-cfac-4070-dd10-4413f64c63b1",
    "scrolled": true
   },
   "outputs": [],
   "source": [
    "# Big thanks to u/Yortos on GitHub for their iMessage analysis tutorial\n",
    "# Check out their repository (which I got some of this code from) here:\n",
    "    # https://github.com/yortos/imessage-analysis\n",
    "\n",
    "# find your chat.db and establish a connection\n",
    "conn = sqlite3.connect('/Users/williamfoote/Library/Messages/chat.db')\n",
    "cur = conn.cursor()\n",
    "\n",
    "# query the database to get all the table names\n",
    "cur.execute(\" select name from sqlite_master where type = 'table' \")\n",
    "    \n",
    "contact_list = pd.read_csv(\"contact_list.csv\")\n",
    "str_pn = ['{0:+d}'.format(raw_pn) for raw_pn in contact_list.phone_number]\n",
    "contact_list['phone_number'] = pd.Series(str_pn)\n",
    "    \n",
    "# If you get an error connecting to chat.db \"can't connect\", you may need to change your privacy settings\n",
    "# I'm assuming if you're looking at iMessage data, you're probably on a Mac\n",
    "# This reddit thread was helpful with the issue:\n",
    "    # https://www.reddit.com/r/learnpython/comments/adrfew/i_cant_read_db_file_if_its_in_library_folder_macos/"
   ]
  },
  {
   "cell_type": "code",
   "execution_count": 30,
   "id": "ec2a28d4",
   "metadata": {},
   "outputs": [
    {
     "data": {
      "text/html": [
       "<div>\n",
       "<style scoped>\n",
       "    .dataframe tbody tr th:only-of-type {\n",
       "        vertical-align: middle;\n",
       "    }\n",
       "\n",
       "    .dataframe tbody tr th {\n",
       "        vertical-align: top;\n",
       "    }\n",
       "\n",
       "    .dataframe thead th {\n",
       "        text-align: right;\n",
       "    }\n",
       "</style>\n",
       "<table border=\"1\" class=\"dataframe\">\n",
       "  <thead>\n",
       "    <tr style=\"text-align: right;\">\n",
       "      <th></th>\n",
       "      <th>message_id</th>\n",
       "      <th>guid</th>\n",
       "      <th>text</th>\n",
       "      <th>replace</th>\n",
       "      <th>service_center</th>\n",
       "      <th>handle_id</th>\n",
       "      <th>subject</th>\n",
       "      <th>country</th>\n",
       "      <th>attributedBody</th>\n",
       "      <th>version</th>\n",
       "      <th>...</th>\n",
       "      <th>date_retracted</th>\n",
       "      <th>date_edited</th>\n",
       "      <th>was_detonated</th>\n",
       "      <th>part_count</th>\n",
       "      <th>is_stewie</th>\n",
       "      <th>date_utc</th>\n",
       "      <th>message_date</th>\n",
       "      <th>timestamp</th>\n",
       "      <th>month</th>\n",
       "      <th>year</th>\n",
       "    </tr>\n",
       "  </thead>\n",
       "  <tbody>\n",
       "    <tr>\n",
       "      <th>0</th>\n",
       "      <td>1</td>\n",
       "      <td>75F41F56-B071-44C9-BB38-CF4CF5F6A1AC</td>\n",
       "      <td>None</td>\n",
       "      <td>0</td>\n",
       "      <td>None</td>\n",
       "      <td>0</td>\n",
       "      <td>None</td>\n",
       "      <td>None</td>\n",
       "      <td>b'\\x04\\x0bstreamtyped\\x81\\xe8\\x03\\x84\\x01@\\x84...</td>\n",
       "      <td>10</td>\n",
       "      <td>...</td>\n",
       "      <td>0</td>\n",
       "      <td>0</td>\n",
       "      <td>0</td>\n",
       "      <td>1</td>\n",
       "      <td>0</td>\n",
       "      <td>2023-02-01 15:43:38</td>\n",
       "      <td>696987818284209792</td>\n",
       "      <td>2023-02-01 15:43:38</td>\n",
       "      <td>2</td>\n",
       "      <td>2023</td>\n",
       "    </tr>\n",
       "    <tr>\n",
       "      <th>1</th>\n",
       "      <td>2</td>\n",
       "      <td>6E570F63-95C0-41C0-B053-5DB595F9858D</td>\n",
       "      <td>None</td>\n",
       "      <td>0</td>\n",
       "      <td>None</td>\n",
       "      <td>32</td>\n",
       "      <td>None</td>\n",
       "      <td>None</td>\n",
       "      <td>b'\\x04\\x0bstreamtyped\\x81\\xe8\\x03\\x84\\x01@\\x84...</td>\n",
       "      <td>10</td>\n",
       "      <td>...</td>\n",
       "      <td>0</td>\n",
       "      <td>0</td>\n",
       "      <td>0</td>\n",
       "      <td>1</td>\n",
       "      <td>0</td>\n",
       "      <td>2023-02-01 15:41:23</td>\n",
       "      <td>696987683772681216</td>\n",
       "      <td>2023-02-01 15:41:23</td>\n",
       "      <td>2</td>\n",
       "      <td>2023</td>\n",
       "    </tr>\n",
       "    <tr>\n",
       "      <th>2</th>\n",
       "      <td>3</td>\n",
       "      <td>443B72AF-8468-43C5-9548-F57856DB187C</td>\n",
       "      <td>None</td>\n",
       "      <td>0</td>\n",
       "      <td>None</td>\n",
       "      <td>32</td>\n",
       "      <td>None</td>\n",
       "      <td>None</td>\n",
       "      <td>b'\\x04\\x0bstreamtyped\\x81\\xe8\\x03\\x84\\x01@\\x84...</td>\n",
       "      <td>10</td>\n",
       "      <td>...</td>\n",
       "      <td>0</td>\n",
       "      <td>0</td>\n",
       "      <td>0</td>\n",
       "      <td>1</td>\n",
       "      <td>0</td>\n",
       "      <td>2023-02-01 15:41:20</td>\n",
       "      <td>696987680985294080</td>\n",
       "      <td>2023-02-01 15:41:20</td>\n",
       "      <td>2</td>\n",
       "      <td>2023</td>\n",
       "    </tr>\n",
       "    <tr>\n",
       "      <th>3</th>\n",
       "      <td>4</td>\n",
       "      <td>B8C329A5-0F7F-410F-847A-9285A5FACFC9</td>\n",
       "      <td>None</td>\n",
       "      <td>0</td>\n",
       "      <td>None</td>\n",
       "      <td>0</td>\n",
       "      <td>None</td>\n",
       "      <td>None</td>\n",
       "      <td>b'\\x04\\x0bstreamtyped\\x81\\xe8\\x03\\x84\\x01@\\x84...</td>\n",
       "      <td>10</td>\n",
       "      <td>...</td>\n",
       "      <td>0</td>\n",
       "      <td>0</td>\n",
       "      <td>0</td>\n",
       "      <td>1</td>\n",
       "      <td>0</td>\n",
       "      <td>2023-02-01 15:36:16</td>\n",
       "      <td>696987376571336320</td>\n",
       "      <td>2023-02-01 15:36:16</td>\n",
       "      <td>2</td>\n",
       "      <td>2023</td>\n",
       "    </tr>\n",
       "    <tr>\n",
       "      <th>4</th>\n",
       "      <td>5</td>\n",
       "      <td>F6FEEC9A-9700-44DA-8D33-946A3CE25286</td>\n",
       "      <td>None</td>\n",
       "      <td>0</td>\n",
       "      <td>None</td>\n",
       "      <td>0</td>\n",
       "      <td>None</td>\n",
       "      <td>None</td>\n",
       "      <td>b'\\x04\\x0bstreamtyped\\x81\\xe8\\x03\\x84\\x01@\\x84...</td>\n",
       "      <td>10</td>\n",
       "      <td>...</td>\n",
       "      <td>0</td>\n",
       "      <td>0</td>\n",
       "      <td>0</td>\n",
       "      <td>1</td>\n",
       "      <td>0</td>\n",
       "      <td>2023-02-01 15:35:54</td>\n",
       "      <td>696987354285254656</td>\n",
       "      <td>2023-02-01 15:35:54</td>\n",
       "      <td>2</td>\n",
       "      <td>2023</td>\n",
       "    </tr>\n",
       "    <tr>\n",
       "      <th>...</th>\n",
       "      <td>...</td>\n",
       "      <td>...</td>\n",
       "      <td>...</td>\n",
       "      <td>...</td>\n",
       "      <td>...</td>\n",
       "      <td>...</td>\n",
       "      <td>...</td>\n",
       "      <td>...</td>\n",
       "      <td>...</td>\n",
       "      <td>...</td>\n",
       "      <td>...</td>\n",
       "      <td>...</td>\n",
       "      <td>...</td>\n",
       "      <td>...</td>\n",
       "      <td>...</td>\n",
       "      <td>...</td>\n",
       "      <td>...</td>\n",
       "      <td>...</td>\n",
       "      <td>...</td>\n",
       "      <td>...</td>\n",
       "      <td>...</td>\n",
       "    </tr>\n",
       "    <tr>\n",
       "      <th>316068</th>\n",
       "      <td>316130</td>\n",
       "      <td>44326490-A7D1-44F6-86A8-91DDAF39A107</td>\n",
       "      <td>None</td>\n",
       "      <td>0</td>\n",
       "      <td>None</td>\n",
       "      <td>0</td>\n",
       "      <td>None</td>\n",
       "      <td>None</td>\n",
       "      <td>b'\\x04\\x0bstreamtyped\\x81\\xe8\\x03\\x84\\x01@\\x84...</td>\n",
       "      <td>10</td>\n",
       "      <td>...</td>\n",
       "      <td>0</td>\n",
       "      <td>0</td>\n",
       "      <td>0</td>\n",
       "      <td>1</td>\n",
       "      <td>0</td>\n",
       "      <td>2023-03-14 18:38:56</td>\n",
       "      <td>700537136643000064</td>\n",
       "      <td>2023-03-14 18:38:56</td>\n",
       "      <td>3</td>\n",
       "      <td>2023</td>\n",
       "    </tr>\n",
       "    <tr>\n",
       "      <th>316069</th>\n",
       "      <td>316131</td>\n",
       "      <td>4F1D1017-6C4A-4A65-A05A-EF47069355CA</td>\n",
       "      <td>Watch them lose</td>\n",
       "      <td>0</td>\n",
       "      <td>None</td>\n",
       "      <td>1250</td>\n",
       "      <td>None</td>\n",
       "      <td>None</td>\n",
       "      <td>b'\\x04\\x0bstreamtyped\\x81\\xe8\\x03\\x84\\x01@\\x84...</td>\n",
       "      <td>10</td>\n",
       "      <td>...</td>\n",
       "      <td>0</td>\n",
       "      <td>0</td>\n",
       "      <td>0</td>\n",
       "      <td>1</td>\n",
       "      <td>0</td>\n",
       "      <td>2023-03-14 18:41:59</td>\n",
       "      <td>700537319908603392</td>\n",
       "      <td>2023-03-14 18:41:59</td>\n",
       "      <td>3</td>\n",
       "      <td>2023</td>\n",
       "    </tr>\n",
       "    <tr>\n",
       "      <th>316070</th>\n",
       "      <td>316132</td>\n",
       "      <td>89D91E65-D102-324B-9F9B-0EBA510745C3</td>\n",
       "      <td>Pura Vida: Lazy girl hack -&gt; Stretch Bracelets...</td>\n",
       "      <td>0</td>\n",
       "      <td>None</td>\n",
       "      <td>1540</td>\n",
       "      <td>None</td>\n",
       "      <td>None</td>\n",
       "      <td>b'\\x04\\x0bstreamtyped\\x81\\xe8\\x03\\x84\\x01@\\x84...</td>\n",
       "      <td>10</td>\n",
       "      <td>...</td>\n",
       "      <td>0</td>\n",
       "      <td>0</td>\n",
       "      <td>0</td>\n",
       "      <td>1</td>\n",
       "      <td>0</td>\n",
       "      <td>2023-03-14 18:46:39</td>\n",
       "      <td>700537599197489920</td>\n",
       "      <td>2023-03-14 18:46:39</td>\n",
       "      <td>3</td>\n",
       "      <td>2023</td>\n",
       "    </tr>\n",
       "    <tr>\n",
       "      <th>316071</th>\n",
       "      <td>316133</td>\n",
       "      <td>FAD868C9-A0E3-49B9-9B2B-EA9315784BCA</td>\n",
       "      <td>That pelicans ML would have been massive</td>\n",
       "      <td>0</td>\n",
       "      <td>None</td>\n",
       "      <td>36</td>\n",
       "      <td>None</td>\n",
       "      <td>None</td>\n",
       "      <td>b'\\x04\\x0bstreamtyped\\x81\\xe8\\x03\\x84\\x01@\\x84...</td>\n",
       "      <td>10</td>\n",
       "      <td>...</td>\n",
       "      <td>0</td>\n",
       "      <td>0</td>\n",
       "      <td>0</td>\n",
       "      <td>1</td>\n",
       "      <td>0</td>\n",
       "      <td>2023-03-14 18:49:00</td>\n",
       "      <td>700537740229265920</td>\n",
       "      <td>2023-03-14 18:49:00</td>\n",
       "      <td>3</td>\n",
       "      <td>2023</td>\n",
       "    </tr>\n",
       "    <tr>\n",
       "      <th>316072</th>\n",
       "      <td>316134</td>\n",
       "      <td>F770D600-16F8-4396-830F-7B8CF2D6391F</td>\n",
       "      <td>Livr bet</td>\n",
       "      <td>0</td>\n",
       "      <td>None</td>\n",
       "      <td>36</td>\n",
       "      <td>None</td>\n",
       "      <td>None</td>\n",
       "      <td>b'\\x04\\x0bstreamtyped\\x81\\xe8\\x03\\x84\\x01@\\x84...</td>\n",
       "      <td>10</td>\n",
       "      <td>...</td>\n",
       "      <td>0</td>\n",
       "      <td>0</td>\n",
       "      <td>0</td>\n",
       "      <td>1</td>\n",
       "      <td>0</td>\n",
       "      <td>2023-03-14 18:49:06</td>\n",
       "      <td>700537746471241216</td>\n",
       "      <td>2023-03-14 18:49:06</td>\n",
       "      <td>3</td>\n",
       "      <td>2023</td>\n",
       "    </tr>\n",
       "  </tbody>\n",
       "</table>\n",
       "<p>316073 rows × 85 columns</p>\n",
       "</div>"
      ],
      "text/plain": [
       "        message_id                                  guid  \\\n",
       "0                1  75F41F56-B071-44C9-BB38-CF4CF5F6A1AC   \n",
       "1                2  6E570F63-95C0-41C0-B053-5DB595F9858D   \n",
       "2                3  443B72AF-8468-43C5-9548-F57856DB187C   \n",
       "3                4  B8C329A5-0F7F-410F-847A-9285A5FACFC9   \n",
       "4                5  F6FEEC9A-9700-44DA-8D33-946A3CE25286   \n",
       "...            ...                                   ...   \n",
       "316068      316130  44326490-A7D1-44F6-86A8-91DDAF39A107   \n",
       "316069      316131  4F1D1017-6C4A-4A65-A05A-EF47069355CA   \n",
       "316070      316132  89D91E65-D102-324B-9F9B-0EBA510745C3   \n",
       "316071      316133  FAD868C9-A0E3-49B9-9B2B-EA9315784BCA   \n",
       "316072      316134  F770D600-16F8-4396-830F-7B8CF2D6391F   \n",
       "\n",
       "                                                     text  replace  \\\n",
       "0                                                    None        0   \n",
       "1                                                    None        0   \n",
       "2                                                    None        0   \n",
       "3                                                    None        0   \n",
       "4                                                    None        0   \n",
       "...                                                   ...      ...   \n",
       "316068                                               None        0   \n",
       "316069                                    Watch them lose        0   \n",
       "316070  Pura Vida: Lazy girl hack -> Stretch Bracelets...        0   \n",
       "316071          That pelicans ML would have been massive         0   \n",
       "316072                                          Livr bet         0   \n",
       "\n",
       "       service_center  handle_id subject country  \\\n",
       "0                None          0    None    None   \n",
       "1                None         32    None    None   \n",
       "2                None         32    None    None   \n",
       "3                None          0    None    None   \n",
       "4                None          0    None    None   \n",
       "...               ...        ...     ...     ...   \n",
       "316068           None          0    None    None   \n",
       "316069           None       1250    None    None   \n",
       "316070           None       1540    None    None   \n",
       "316071           None         36    None    None   \n",
       "316072           None         36    None    None   \n",
       "\n",
       "                                           attributedBody  version  ...  \\\n",
       "0       b'\\x04\\x0bstreamtyped\\x81\\xe8\\x03\\x84\\x01@\\x84...       10  ...   \n",
       "1       b'\\x04\\x0bstreamtyped\\x81\\xe8\\x03\\x84\\x01@\\x84...       10  ...   \n",
       "2       b'\\x04\\x0bstreamtyped\\x81\\xe8\\x03\\x84\\x01@\\x84...       10  ...   \n",
       "3       b'\\x04\\x0bstreamtyped\\x81\\xe8\\x03\\x84\\x01@\\x84...       10  ...   \n",
       "4       b'\\x04\\x0bstreamtyped\\x81\\xe8\\x03\\x84\\x01@\\x84...       10  ...   \n",
       "...                                                   ...      ...  ...   \n",
       "316068  b'\\x04\\x0bstreamtyped\\x81\\xe8\\x03\\x84\\x01@\\x84...       10  ...   \n",
       "316069  b'\\x04\\x0bstreamtyped\\x81\\xe8\\x03\\x84\\x01@\\x84...       10  ...   \n",
       "316070  b'\\x04\\x0bstreamtyped\\x81\\xe8\\x03\\x84\\x01@\\x84...       10  ...   \n",
       "316071  b'\\x04\\x0bstreamtyped\\x81\\xe8\\x03\\x84\\x01@\\x84...       10  ...   \n",
       "316072  b'\\x04\\x0bstreamtyped\\x81\\xe8\\x03\\x84\\x01@\\x84...       10  ...   \n",
       "\n",
       "        date_retracted date_edited was_detonated part_count  is_stewie  \\\n",
       "0                    0           0             0          1          0   \n",
       "1                    0           0             0          1          0   \n",
       "2                    0           0             0          1          0   \n",
       "3                    0           0             0          1          0   \n",
       "4                    0           0             0          1          0   \n",
       "...                ...         ...           ...        ...        ...   \n",
       "316068               0           0             0          1          0   \n",
       "316069               0           0             0          1          0   \n",
       "316070               0           0             0          1          0   \n",
       "316071               0           0             0          1          0   \n",
       "316072               0           0             0          1          0   \n",
       "\n",
       "                   date_utc        message_date           timestamp  month  \\\n",
       "0       2023-02-01 15:43:38  696987818284209792 2023-02-01 15:43:38      2   \n",
       "1       2023-02-01 15:41:23  696987683772681216 2023-02-01 15:41:23      2   \n",
       "2       2023-02-01 15:41:20  696987680985294080 2023-02-01 15:41:20      2   \n",
       "3       2023-02-01 15:36:16  696987376571336320 2023-02-01 15:36:16      2   \n",
       "4       2023-02-01 15:35:54  696987354285254656 2023-02-01 15:35:54      2   \n",
       "...                     ...                 ...                 ...    ...   \n",
       "316068  2023-03-14 18:38:56  700537136643000064 2023-03-14 18:38:56      3   \n",
       "316069  2023-03-14 18:41:59  700537319908603392 2023-03-14 18:41:59      3   \n",
       "316070  2023-03-14 18:46:39  700537599197489920 2023-03-14 18:46:39      3   \n",
       "316071  2023-03-14 18:49:00  700537740229265920 2023-03-14 18:49:00      3   \n",
       "316072  2023-03-14 18:49:06  700537746471241216 2023-03-14 18:49:06      3   \n",
       "\n",
       "        year  \n",
       "0       2023  \n",
       "1       2023  \n",
       "2       2023  \n",
       "3       2023  \n",
       "4       2023  \n",
       "...      ...  \n",
       "316068  2023  \n",
       "316069  2023  \n",
       "316070  2023  \n",
       "316071  2023  \n",
       "316072  2023  \n",
       "\n",
       "[316073 rows x 85 columns]"
      ]
     },
     "execution_count": 30,
     "metadata": {},
     "output_type": "execute_result"
    }
   ],
   "source": [
    "messages"
   ]
  },
  {
   "cell_type": "code",
   "execution_count": 21,
   "id": "b1f11f7b",
   "metadata": {
    "id": "b1f11f7b"
   },
   "outputs": [],
   "source": [
    "# create pandas dataframe with all the tables you care about.\n",
    "\n",
    "## Mac OSX versions below High Sierra\n",
    "#messages = pd.read_sql_query('''select *, datetime(date + strftime(\"%s\", \"2001-01-01\") ,\"unixepoch\",\"localtime\") \n",
    "# as date_utc from message''', conn) \n",
    "\n",
    "## High Sierra and above\n",
    "messages = pd.read_sql_query('''select *, datetime(date/1000000000 + strftime(\"%s\", \"2001-01-01\")\n",
    "    ,\"unixepoch\",\"localtime\")  as date_utc from message''', conn) \n",
    "\n",
    "handles = pd.read_sql_query(\"select * from handle\", conn)\n",
    "chat_message_joins = pd.read_sql_query(\"select * from chat_message_join\", conn)"
   ]
  },
  {
   "cell_type": "code",
   "execution_count": 22,
   "id": "92d2ce86",
   "metadata": {
    "id": "92d2ce86"
   },
   "outputs": [],
   "source": [
    "# These following fields are for cleaning data for date-time analysis\n",
    "messages['message_date'] = messages['date']\n",
    "messages['timestamp'] = messages['date_utc'].apply(lambda x: pd.Timestamp(x))\n",
    "messages['date'] = messages['timestamp'].apply(lambda x: x.date())\n",
    "messages['month'] = messages['timestamp'].apply(lambda x: int(x.month))\n",
    "messages['year'] = messages['timestamp'].apply(lambda x: int(x.year))\n",
    "\n",
    "\n",
    "# rename the ROWID into message_id for clarity\n",
    "messages.rename(columns={'ROWID' : 'message_id'}, inplace = True)\n",
    "\n",
    "# rename the handle and apple_id/phone_number as well\n",
    "handles.rename(columns={'id' : 'phone_number', 'ROWID': 'handle_id'}, inplace = True)"
   ]
  },
  {
   "cell_type": "code",
   "execution_count": 24,
   "id": "6f0ea504",
   "metadata": {
    "id": "6f0ea504",
    "outputId": "44f833cc-2889-42b8-8246-b086db0d5739"
   },
   "outputs": [
    {
     "name": "stdout",
     "output_type": "stream",
     "text": [
      "316086\n"
     ]
    }
   ],
   "source": [
    "# merge the messages with the handles\n",
    "merge_level_1 = pd.merge(messages[['text', 'handle_id', 'date','message_date' ,'timestamp', 'month','year','is_sent', 'message_id']],  handles[['handle_id', 'phone_number']], on ='handle_id', how='left')\n",
    "\n",
    "# and then that table with the chats\n",
    "df_messages = pd.merge(merge_level_1, chat_message_joins[['chat_id', 'message_id']], on = 'message_id', how='left')\n",
    "\n",
    "\n",
    "print(len(df_messages))\n",
    "#print(df_messages.head())"
   ]
  },
  {
   "cell_type": "code",
   "execution_count": 25,
   "id": "dbcc64d0-ce45-4e8a-be53-08e29fbd3b76",
   "metadata": {},
   "outputs": [
    {
     "data": {
      "text/html": [
       "<div>\n",
       "<style scoped>\n",
       "    .dataframe tbody tr th:only-of-type {\n",
       "        vertical-align: middle;\n",
       "    }\n",
       "\n",
       "    .dataframe tbody tr th {\n",
       "        vertical-align: top;\n",
       "    }\n",
       "\n",
       "    .dataframe thead th {\n",
       "        text-align: right;\n",
       "    }\n",
       "</style>\n",
       "<table border=\"1\" class=\"dataframe\">\n",
       "  <thead>\n",
       "    <tr style=\"text-align: right;\">\n",
       "      <th></th>\n",
       "      <th>text</th>\n",
       "      <th>handle_id</th>\n",
       "      <th>date</th>\n",
       "      <th>message_date</th>\n",
       "      <th>timestamp</th>\n",
       "      <th>month</th>\n",
       "      <th>year</th>\n",
       "      <th>is_sent</th>\n",
       "      <th>message_id</th>\n",
       "      <th>phone_number</th>\n",
       "      <th>chat_id</th>\n",
       "    </tr>\n",
       "  </thead>\n",
       "  <tbody>\n",
       "    <tr>\n",
       "      <th>277376</th>\n",
       "      <td>Wordle 272 5/6\\n\\n🟩⬛🟨⬛⬛\\n🟩⬛⬛⬛🟨\\n🟩🟨🟨🟨⬛\\n🟩🟩🟨🟨⬛\\n...</td>\n",
       "      <td>38</td>\n",
       "      <td>2022-03-18</td>\n",
       "      <td>669281826457856128</td>\n",
       "      <td>2022-03-18 00:37:06</td>\n",
       "      <td>3</td>\n",
       "      <td>2022</td>\n",
       "      <td>0</td>\n",
       "      <td>277428</td>\n",
       "      <td>+12089820639</td>\n",
       "      <td>1720.0</td>\n",
       "    </tr>\n",
       "    <tr>\n",
       "      <th>277380</th>\n",
       "      <td>Wordle 272 6/6\\n\\n⬛⬛🟨⬛⬛\\n🟨⬛⬛⬛⬛\\n⬛⬛🟨🟨⬛\\n⬛🟩🟨🟨🟨\\n...</td>\n",
       "      <td>32</td>\n",
       "      <td>2022-03-18</td>\n",
       "      <td>669281668335308288</td>\n",
       "      <td>2022-03-18 00:34:28</td>\n",
       "      <td>3</td>\n",
       "      <td>2022</td>\n",
       "      <td>0</td>\n",
       "      <td>277432</td>\n",
       "      <td>+18016631007</td>\n",
       "      <td>1720.0</td>\n",
       "    </tr>\n",
       "    <tr>\n",
       "      <th>277229</th>\n",
       "      <td>Wordle 272 3/6\\n\\n⬛🟩🟨🟨🟨\\n⬛🟩🟨🟩🟩\\n🟩🟩🟩🟩🟩</td>\n",
       "      <td>91</td>\n",
       "      <td>2022-03-18</td>\n",
       "      <td>669304465277312256</td>\n",
       "      <td>2022-03-18 06:54:25</td>\n",
       "      <td>3</td>\n",
       "      <td>2022</td>\n",
       "      <td>0</td>\n",
       "      <td>277281</td>\n",
       "      <td>+19253543903</td>\n",
       "      <td>1720.0</td>\n",
       "    </tr>\n",
       "    <tr>\n",
       "      <th>277233</th>\n",
       "      <td>Wordle 272 4/6\\n\\n⬛⬛⬛🟨⬛\\n⬛🟨🟨⬛🟨\\n🟩🟨🟨🟨⬛\\n🟩🟩🟩🟩🟩</td>\n",
       "      <td>37</td>\n",
       "      <td>2022-03-18</td>\n",
       "      <td>669288599073667968</td>\n",
       "      <td>2022-03-18 02:29:59</td>\n",
       "      <td>3</td>\n",
       "      <td>2022</td>\n",
       "      <td>0</td>\n",
       "      <td>277285</td>\n",
       "      <td>+19496329313</td>\n",
       "      <td>1720.0</td>\n",
       "    </tr>\n",
       "    <tr>\n",
       "      <th>277360</th>\n",
       "      <td>Wordle 272 4/6\\n\\n🟩⬜🟨⬜🟩\\n🟩🟩⬜⬜🟩\\n🟩🟩🟩⬜🟩\\n🟩🟩🟩🟩🟩</td>\n",
       "      <td>0</td>\n",
       "      <td>2022-03-18</td>\n",
       "      <td>669305479569000064</td>\n",
       "      <td>2022-03-18 07:11:19</td>\n",
       "      <td>3</td>\n",
       "      <td>2022</td>\n",
       "      <td>1</td>\n",
       "      <td>277412</td>\n",
       "      <td>NaN</td>\n",
       "      <td>1720.0</td>\n",
       "    </tr>\n",
       "    <tr>\n",
       "      <th>...</th>\n",
       "      <td>...</td>\n",
       "      <td>...</td>\n",
       "      <td>...</td>\n",
       "      <td>...</td>\n",
       "      <td>...</td>\n",
       "      <td>...</td>\n",
       "      <td>...</td>\n",
       "      <td>...</td>\n",
       "      <td>...</td>\n",
       "      <td>...</td>\n",
       "      <td>...</td>\n",
       "    </tr>\n",
       "    <tr>\n",
       "      <th>314166</th>\n",
       "      <td>Wordle 629 4/6\\n\\n⬜⬜🟦🟧⬜\\n⬜🟦⬜🟧⬜\\n⬜⬜🟦🟧🟧\\n🟧🟧🟧🟧🟧</td>\n",
       "      <td>0</td>\n",
       "      <td>2023-03-10</td>\n",
       "      <td>700156513240103296</td>\n",
       "      <td>2023-03-10 07:55:13</td>\n",
       "      <td>3</td>\n",
       "      <td>2023</td>\n",
       "      <td>1</td>\n",
       "      <td>314215</td>\n",
       "      <td>NaN</td>\n",
       "      <td>1720.0</td>\n",
       "    </tr>\n",
       "    <tr>\n",
       "      <th>314831</th>\n",
       "      <td>Wordle 630 4/6\\n\\n⬜🟦🟦🟦⬜\\n⬜🟦🟦🟦⬜\\n⬜🟦⬜🟦🟧\\n🟧🟧🟧🟧🟧</td>\n",
       "      <td>0</td>\n",
       "      <td>2023-03-11</td>\n",
       "      <td>700237164260940288</td>\n",
       "      <td>2023-03-11 06:19:24</td>\n",
       "      <td>3</td>\n",
       "      <td>2023</td>\n",
       "      <td>1</td>\n",
       "      <td>314880</td>\n",
       "      <td>NaN</td>\n",
       "      <td>1720.0</td>\n",
       "    </tr>\n",
       "    <tr>\n",
       "      <th>315294</th>\n",
       "      <td>Wordle 631 4/6\\n\\n⬜⬜⬜⬜🟦\\n⬜⬜🟧🟧⬜\\n⬜🟧🟧🟧🟧\\n🟧🟧🟧🟧🟧</td>\n",
       "      <td>0</td>\n",
       "      <td>2023-03-12</td>\n",
       "      <td>700374355675660800</td>\n",
       "      <td>2023-03-12 21:25:55</td>\n",
       "      <td>3</td>\n",
       "      <td>2023</td>\n",
       "      <td>1</td>\n",
       "      <td>315343</td>\n",
       "      <td>NaN</td>\n",
       "      <td>1720.0</td>\n",
       "    </tr>\n",
       "    <tr>\n",
       "      <th>315468</th>\n",
       "      <td>Wordle 632 5/6\\n\\n⬜⬜⬜⬜⬜\\n⬜⬜⬜⬜🟧\\n⬜🟧🟧⬜🟧\\n⬜🟧🟧🟧🟧\\n...</td>\n",
       "      <td>0</td>\n",
       "      <td>2023-03-13</td>\n",
       "      <td>700419168250065280</td>\n",
       "      <td>2023-03-13 09:52:48</td>\n",
       "      <td>3</td>\n",
       "      <td>2023</td>\n",
       "      <td>1</td>\n",
       "      <td>315517</td>\n",
       "      <td>NaN</td>\n",
       "      <td>1720.0</td>\n",
       "    </tr>\n",
       "    <tr>\n",
       "      <th>315855</th>\n",
       "      <td>Wordle 633 5/6\\n\\n🟧⬜🟦⬜⬜\\n🟧🟦⬜⬜⬜\\n🟧⬜⬜⬜🟦\\n🟧⬜⬜🟧🟧\\n...</td>\n",
       "      <td>0</td>\n",
       "      <td>2023-03-14</td>\n",
       "      <td>700503635142718976</td>\n",
       "      <td>2023-03-14 09:20:35</td>\n",
       "      <td>3</td>\n",
       "      <td>2023</td>\n",
       "      <td>1</td>\n",
       "      <td>315904</td>\n",
       "      <td>NaN</td>\n",
       "      <td>1720.0</td>\n",
       "    </tr>\n",
       "  </tbody>\n",
       "</table>\n",
       "<p>175 rows × 11 columns</p>\n",
       "</div>"
      ],
      "text/plain": [
       "                                                     text  handle_id  \\\n",
       "277376  Wordle 272 5/6\\n\\n🟩⬛🟨⬛⬛\\n🟩⬛⬛⬛🟨\\n🟩🟨🟨🟨⬛\\n🟩🟩🟨🟨⬛\\n...         38   \n",
       "277380  Wordle 272 6/6\\n\\n⬛⬛🟨⬛⬛\\n🟨⬛⬛⬛⬛\\n⬛⬛🟨🟨⬛\\n⬛🟩🟨🟨🟨\\n...         32   \n",
       "277229              Wordle 272 3/6\\n\\n⬛🟩🟨🟨🟨\\n⬛🟩🟨🟩🟩\\n🟩🟩🟩🟩🟩         91   \n",
       "277233       Wordle 272 4/6\\n\\n⬛⬛⬛🟨⬛\\n⬛🟨🟨⬛🟨\\n🟩🟨🟨🟨⬛\\n🟩🟩🟩🟩🟩         37   \n",
       "277360       Wordle 272 4/6\\n\\n🟩⬜🟨⬜🟩\\n🟩🟩⬜⬜🟩\\n🟩🟩🟩⬜🟩\\n🟩🟩🟩🟩🟩          0   \n",
       "...                                                   ...        ...   \n",
       "314166       Wordle 629 4/6\\n\\n⬜⬜🟦🟧⬜\\n⬜🟦⬜🟧⬜\\n⬜⬜🟦🟧🟧\\n🟧🟧🟧🟧🟧          0   \n",
       "314831       Wordle 630 4/6\\n\\n⬜🟦🟦🟦⬜\\n⬜🟦🟦🟦⬜\\n⬜🟦⬜🟦🟧\\n🟧🟧🟧🟧🟧          0   \n",
       "315294       Wordle 631 4/6\\n\\n⬜⬜⬜⬜🟦\\n⬜⬜🟧🟧⬜\\n⬜🟧🟧🟧🟧\\n🟧🟧🟧🟧🟧          0   \n",
       "315468  Wordle 632 5/6\\n\\n⬜⬜⬜⬜⬜\\n⬜⬜⬜⬜🟧\\n⬜🟧🟧⬜🟧\\n⬜🟧🟧🟧🟧\\n...          0   \n",
       "315855  Wordle 633 5/6\\n\\n🟧⬜🟦⬜⬜\\n🟧🟦⬜⬜⬜\\n🟧⬜⬜⬜🟦\\n🟧⬜⬜🟧🟧\\n...          0   \n",
       "\n",
       "              date        message_date           timestamp  month  year  \\\n",
       "277376  2022-03-18  669281826457856128 2022-03-18 00:37:06      3  2022   \n",
       "277380  2022-03-18  669281668335308288 2022-03-18 00:34:28      3  2022   \n",
       "277229  2022-03-18  669304465277312256 2022-03-18 06:54:25      3  2022   \n",
       "277233  2022-03-18  669288599073667968 2022-03-18 02:29:59      3  2022   \n",
       "277360  2022-03-18  669305479569000064 2022-03-18 07:11:19      3  2022   \n",
       "...            ...                 ...                 ...    ...   ...   \n",
       "314166  2023-03-10  700156513240103296 2023-03-10 07:55:13      3  2023   \n",
       "314831  2023-03-11  700237164260940288 2023-03-11 06:19:24      3  2023   \n",
       "315294  2023-03-12  700374355675660800 2023-03-12 21:25:55      3  2023   \n",
       "315468  2023-03-13  700419168250065280 2023-03-13 09:52:48      3  2023   \n",
       "315855  2023-03-14  700503635142718976 2023-03-14 09:20:35      3  2023   \n",
       "\n",
       "        is_sent  message_id  phone_number  chat_id  \n",
       "277376        0      277428  +12089820639   1720.0  \n",
       "277380        0      277432  +18016631007   1720.0  \n",
       "277229        0      277281  +19253543903   1720.0  \n",
       "277233        0      277285  +19496329313   1720.0  \n",
       "277360        1      277412           NaN   1720.0  \n",
       "...         ...         ...           ...      ...  \n",
       "314166        1      314215           NaN   1720.0  \n",
       "314831        1      314880           NaN   1720.0  \n",
       "315294        1      315343           NaN   1720.0  \n",
       "315468        1      315517           NaN   1720.0  \n",
       "315855        1      315904           NaN   1720.0  \n",
       "\n",
       "[175 rows x 11 columns]"
      ]
     },
     "execution_count": 25,
     "metadata": {},
     "output_type": "execute_result"
    }
   ],
   "source": [
    "df_messages.loc[df_messages['text'].str.contains(\"Wordle\", na=False)].sort_values(by = 'date')"
   ]
  },
  {
   "cell_type": "code",
   "execution_count": 26,
   "id": "5e4efedb",
   "metadata": {
    "id": "5e4efedb"
   },
   "outputs": [],
   "source": [
    "wordle_scores = df_messages.loc[df_messages['text'].str.contains(\"Wordle\", na=False)]"
   ]
  },
  {
   "cell_type": "code",
   "execution_count": 27,
   "id": "edc1da39",
   "metadata": {
    "id": "edc1da39",
    "outputId": "ccb87060-fc5a-407e-cc8b-d50d782aef82"
   },
   "outputs": [
    {
     "data": {
      "text/html": [
       "<div>\n",
       "<style scoped>\n",
       "    .dataframe tbody tr th:only-of-type {\n",
       "        vertical-align: middle;\n",
       "    }\n",
       "\n",
       "    .dataframe tbody tr th {\n",
       "        vertical-align: top;\n",
       "    }\n",
       "\n",
       "    .dataframe thead th {\n",
       "        text-align: right;\n",
       "    }\n",
       "</style>\n",
       "<table border=\"1\" class=\"dataframe\">\n",
       "  <thead>\n",
       "    <tr style=\"text-align: right;\">\n",
       "      <th></th>\n",
       "      <th>text</th>\n",
       "      <th>handle_id</th>\n",
       "      <th>date</th>\n",
       "      <th>message_date</th>\n",
       "      <th>timestamp</th>\n",
       "      <th>month</th>\n",
       "      <th>year</th>\n",
       "      <th>is_sent</th>\n",
       "      <th>message_id</th>\n",
       "      <th>phone_number</th>\n",
       "      <th>chat_id</th>\n",
       "    </tr>\n",
       "  </thead>\n",
       "  <tbody>\n",
       "    <tr>\n",
       "      <th>267750</th>\n",
       "      <td>Exclamó por “Wordle 527 2/6\\n\\n⬛⬛🟨🟨⬛\\n🟩🟩🟩🟩🟩”</td>\n",
       "      <td>37</td>\n",
       "      <td>2022-11-28</td>\n",
       "      <td>691341647033623040</td>\n",
       "      <td>2022-11-28 07:20:47</td>\n",
       "      <td>11</td>\n",
       "      <td>2022</td>\n",
       "      <td>0</td>\n",
       "      <td>267802</td>\n",
       "      <td>+19496329313</td>\n",
       "      <td>1720.0</td>\n",
       "    </tr>\n",
       "    <tr>\n",
       "      <th>267755</th>\n",
       "      <td>Emphasized “Wordle 527 2/6\\n\\n⬛⬛🟨🟨⬛\\n🟩🟩🟩🟩🟩”</td>\n",
       "      <td>0</td>\n",
       "      <td>2022-11-28</td>\n",
       "      <td>691340861029000064</td>\n",
       "      <td>2022-11-28 07:07:41</td>\n",
       "      <td>11</td>\n",
       "      <td>2022</td>\n",
       "      <td>1</td>\n",
       "      <td>267807</td>\n",
       "      <td>NaN</td>\n",
       "      <td>1720.0</td>\n",
       "    </tr>\n",
       "    <tr>\n",
       "      <th>267858</th>\n",
       "      <td>Disliked “Wordle 513 2/6\\n\\n⬜🟧🟦🟦⬜\\n🟧🟧🟧🟧🟧”</td>\n",
       "      <td>34</td>\n",
       "      <td>2022-11-14</td>\n",
       "      <td>690146031622981120</td>\n",
       "      <td>2022-11-14 11:13:51</td>\n",
       "      <td>11</td>\n",
       "      <td>2022</td>\n",
       "      <td>0</td>\n",
       "      <td>267910</td>\n",
       "      <td>+14086660152</td>\n",
       "      <td>1720.0</td>\n",
       "    </tr>\n",
       "    <tr>\n",
       "      <th>267953</th>\n",
       "      <td>Loved “Wordle 511 2/6\\n\\n⬜🟧🟧🟧🟧\\n🟧🟧🟧🟧🟧\\nSkill”</td>\n",
       "      <td>91</td>\n",
       "      <td>2022-11-12</td>\n",
       "      <td>689976136180892032</td>\n",
       "      <td>2022-11-12 12:02:16</td>\n",
       "      <td>11</td>\n",
       "      <td>2022</td>\n",
       "      <td>0</td>\n",
       "      <td>268005</td>\n",
       "      <td>+19253543903</td>\n",
       "      <td>1720.0</td>\n",
       "    </tr>\n",
       "    <tr>\n",
       "      <th>270322</th>\n",
       "      <td>Emphasized “Wordle 481 2/6\\n\\n⬛⬛🟩⬛🟨\\n🟩🟩🟩🟩🟩”</td>\n",
       "      <td>0</td>\n",
       "      <td>2022-10-13</td>\n",
       "      <td>687365926029000064</td>\n",
       "      <td>2022-10-13 07:58:46</td>\n",
       "      <td>10</td>\n",
       "      <td>2022</td>\n",
       "      <td>1</td>\n",
       "      <td>270374</td>\n",
       "      <td>NaN</td>\n",
       "      <td>1720.0</td>\n",
       "    </tr>\n",
       "    <tr>\n",
       "      <th>270372</th>\n",
       "      <td>Exclamó por “Wordle 481 2/6\\n\\n⬛⬛🟩⬛🟨\\n🟩🟩🟩🟩🟩”</td>\n",
       "      <td>37</td>\n",
       "      <td>2022-10-13</td>\n",
       "      <td>687370158390800256</td>\n",
       "      <td>2022-10-13 09:09:18</td>\n",
       "      <td>10</td>\n",
       "      <td>2022</td>\n",
       "      <td>0</td>\n",
       "      <td>270424</td>\n",
       "      <td>+19496329313</td>\n",
       "      <td>1720.0</td>\n",
       "    </tr>\n",
       "    <tr>\n",
       "      <th>274229</th>\n",
       "      <td>Emphasized “Wordle 427 2/6\\n\\n⬜🟦⬜🟦🟧\\n🟧🟧🟧🟧🟧”</td>\n",
       "      <td>36</td>\n",
       "      <td>2022-08-20</td>\n",
       "      <td>682711823091593088</td>\n",
       "      <td>2022-08-20 11:10:23</td>\n",
       "      <td>8</td>\n",
       "      <td>2022</td>\n",
       "      <td>0</td>\n",
       "      <td>274281</td>\n",
       "      <td>+18182991475</td>\n",
       "      <td>1720.0</td>\n",
       "    </tr>\n",
       "    <tr>\n",
       "      <th>274237</th>\n",
       "      <td>Emphasized “Wordle 427 2/6\\n\\n⬜🟦⬜🟦🟧\\n🟧🟧🟧🟧🟧”</td>\n",
       "      <td>39</td>\n",
       "      <td>2022-08-20</td>\n",
       "      <td>682711433781851008</td>\n",
       "      <td>2022-08-20 11:03:53</td>\n",
       "      <td>8</td>\n",
       "      <td>2022</td>\n",
       "      <td>0</td>\n",
       "      <td>274289</td>\n",
       "      <td>+13105147216</td>\n",
       "      <td>1720.0</td>\n",
       "    </tr>\n",
       "    <tr>\n",
       "      <th>274245</th>\n",
       "      <td>Exclamó por “Wordle 427 2/6\\n\\n⬜🟦⬜🟦🟧\\n🟧🟧🟧🟧🟧”</td>\n",
       "      <td>37</td>\n",
       "      <td>2022-08-20</td>\n",
       "      <td>682711120184981120</td>\n",
       "      <td>2022-08-20 10:58:40</td>\n",
       "      <td>8</td>\n",
       "      <td>2022</td>\n",
       "      <td>0</td>\n",
       "      <td>274297</td>\n",
       "      <td>+19496329313</td>\n",
       "      <td>1720.0</td>\n",
       "    </tr>\n",
       "    <tr>\n",
       "      <th>274314</th>\n",
       "      <td>Loved “Wordle 427 2/6\\n\\n⬜🟦⬜🟦🟧\\n🟧🟧🟧🟧🟧”</td>\n",
       "      <td>91</td>\n",
       "      <td>2022-08-20</td>\n",
       "      <td>682711116167673088</td>\n",
       "      <td>2022-08-20 10:58:36</td>\n",
       "      <td>8</td>\n",
       "      <td>2022</td>\n",
       "      <td>0</td>\n",
       "      <td>274366</td>\n",
       "      <td>+19253543903</td>\n",
       "      <td>1720.0</td>\n",
       "    </tr>\n",
       "    <tr>\n",
       "      <th>274376</th>\n",
       "      <td>Emphasized “Wordle 427 2/6\\n\\n⬜🟦⬜🟦🟧\\n🟧🟧🟧🟧🟧”</td>\n",
       "      <td>1250</td>\n",
       "      <td>2022-08-20</td>\n",
       "      <td>682711219423925888</td>\n",
       "      <td>2022-08-20 11:00:19</td>\n",
       "      <td>8</td>\n",
       "      <td>2022</td>\n",
       "      <td>0</td>\n",
       "      <td>274428</td>\n",
       "      <td>+12167125706</td>\n",
       "      <td>1720.0</td>\n",
       "    </tr>\n",
       "    <tr>\n",
       "      <th>277102</th>\n",
       "      <td>Exclamó por “Wordle 370 2/6\\n\\n🟩⬛⬛⬛🟩\\n🟩🟩🟩🟩🟩”</td>\n",
       "      <td>37</td>\n",
       "      <td>2022-06-23</td>\n",
       "      <td>677739795732075904</td>\n",
       "      <td>2022-06-23 22:03:15</td>\n",
       "      <td>6</td>\n",
       "      <td>2022</td>\n",
       "      <td>0</td>\n",
       "      <td>277154</td>\n",
       "      <td>+19496329313</td>\n",
       "      <td>1720.0</td>\n",
       "    </tr>\n",
       "    <tr>\n",
       "      <th>312345</th>\n",
       "      <td>Emphasized “Wordle 623 2/6\\n\\n🟩🟩🟩⬛🟩\\n🟩🟩🟩🟩🟩\\n\\n...</td>\n",
       "      <td>0</td>\n",
       "      <td>2023-03-04</td>\n",
       "      <td>699634662717838080</td>\n",
       "      <td>2023-03-04 06:57:42</td>\n",
       "      <td>3</td>\n",
       "      <td>2023</td>\n",
       "      <td>1</td>\n",
       "      <td>312396</td>\n",
       "      <td>NaN</td>\n",
       "      <td>1720.0</td>\n",
       "    </tr>\n",
       "  </tbody>\n",
       "</table>\n",
       "</div>"
      ],
      "text/plain": [
       "                                                     text  handle_id  \\\n",
       "267750       Exclamó por “Wordle 527 2/6\\n\\n⬛⬛🟨🟨⬛\\n🟩🟩🟩🟩🟩”         37   \n",
       "267755        Emphasized “Wordle 527 2/6\\n\\n⬛⬛🟨🟨⬛\\n🟩🟩🟩🟩🟩”          0   \n",
       "267858          Disliked “Wordle 513 2/6\\n\\n⬜🟧🟦🟦⬜\\n🟧🟧🟧🟧🟧”         34   \n",
       "267953      Loved “Wordle 511 2/6\\n\\n⬜🟧🟧🟧🟧\\n🟧🟧🟧🟧🟧\\nSkill”         91   \n",
       "270322        Emphasized “Wordle 481 2/6\\n\\n⬛⬛🟩⬛🟨\\n🟩🟩🟩🟩🟩”          0   \n",
       "270372       Exclamó por “Wordle 481 2/6\\n\\n⬛⬛🟩⬛🟨\\n🟩🟩🟩🟩🟩”         37   \n",
       "274229        Emphasized “Wordle 427 2/6\\n\\n⬜🟦⬜🟦🟧\\n🟧🟧🟧🟧🟧”         36   \n",
       "274237        Emphasized “Wordle 427 2/6\\n\\n⬜🟦⬜🟦🟧\\n🟧🟧🟧🟧🟧”         39   \n",
       "274245       Exclamó por “Wordle 427 2/6\\n\\n⬜🟦⬜🟦🟧\\n🟧🟧🟧🟧🟧”         37   \n",
       "274314             Loved “Wordle 427 2/6\\n\\n⬜🟦⬜🟦🟧\\n🟧🟧🟧🟧🟧”         91   \n",
       "274376        Emphasized “Wordle 427 2/6\\n\\n⬜🟦⬜🟦🟧\\n🟧🟧🟧🟧🟧”       1250   \n",
       "277102       Exclamó por “Wordle 370 2/6\\n\\n🟩⬛⬛⬛🟩\\n🟩🟩🟩🟩🟩”         37   \n",
       "312345  Emphasized “Wordle 623 2/6\\n\\n🟩🟩🟩⬛🟩\\n🟩🟩🟩🟩🟩\\n\\n...          0   \n",
       "\n",
       "              date        message_date           timestamp  month  year  \\\n",
       "267750  2022-11-28  691341647033623040 2022-11-28 07:20:47     11  2022   \n",
       "267755  2022-11-28  691340861029000064 2022-11-28 07:07:41     11  2022   \n",
       "267858  2022-11-14  690146031622981120 2022-11-14 11:13:51     11  2022   \n",
       "267953  2022-11-12  689976136180892032 2022-11-12 12:02:16     11  2022   \n",
       "270322  2022-10-13  687365926029000064 2022-10-13 07:58:46     10  2022   \n",
       "270372  2022-10-13  687370158390800256 2022-10-13 09:09:18     10  2022   \n",
       "274229  2022-08-20  682711823091593088 2022-08-20 11:10:23      8  2022   \n",
       "274237  2022-08-20  682711433781851008 2022-08-20 11:03:53      8  2022   \n",
       "274245  2022-08-20  682711120184981120 2022-08-20 10:58:40      8  2022   \n",
       "274314  2022-08-20  682711116167673088 2022-08-20 10:58:36      8  2022   \n",
       "274376  2022-08-20  682711219423925888 2022-08-20 11:00:19      8  2022   \n",
       "277102  2022-06-23  677739795732075904 2022-06-23 22:03:15      6  2022   \n",
       "312345  2023-03-04  699634662717838080 2023-03-04 06:57:42      3  2023   \n",
       "\n",
       "        is_sent  message_id  phone_number  chat_id  \n",
       "267750        0      267802  +19496329313   1720.0  \n",
       "267755        1      267807           NaN   1720.0  \n",
       "267858        0      267910  +14086660152   1720.0  \n",
       "267953        0      268005  +19253543903   1720.0  \n",
       "270322        1      270374           NaN   1720.0  \n",
       "270372        0      270424  +19496329313   1720.0  \n",
       "274229        0      274281  +18182991475   1720.0  \n",
       "274237        0      274289  +13105147216   1720.0  \n",
       "274245        0      274297  +19496329313   1720.0  \n",
       "274314        0      274366  +19253543903   1720.0  \n",
       "274376        0      274428  +12167125706   1720.0  \n",
       "277102        0      277154  +19496329313   1720.0  \n",
       "312345        1      312396           NaN   1720.0  "
      ]
     },
     "execution_count": 27,
     "metadata": {},
     "output_type": "execute_result"
    }
   ],
   "source": [
    "wordle_scores.loc[wordle_scores['text'].str.contains('“Wordle ', na=False)]"
   ]
  },
  {
   "cell_type": "code",
   "execution_count": 9,
   "id": "32cd4bed",
   "metadata": {
    "id": "32cd4bed"
   },
   "outputs": [],
   "source": [
    "# # I needed to clean a lot of phrases. If someone in the message reacted to one's Wordle text, I need to remove\n",
    "# # That row. E.g. Bob Laughed at \"Wordle 243 X/6\" should be removed\n",
    "# rm_laugh = wordle_scores.loc[~wordle_scores['text'].str.contains('Laughed', na=False)]\n",
    "# rm_emp = rm_laugh.loc[~rm_laugh['text'].str.contains('Emphasized', na=False)]\n",
    "# rm_love = rm_emp.loc[~rm_emp['text'].str.contains('Loved', na=False)]\n",
    "# rm_dl = rm_love.loc[~rm_love['text'].str.contains('Disliked', na=False)]\n",
    "# rm_like = rm_dl.loc[~rm_dl['text'].str.contains('Liked', na=False)]\n",
    "\n",
    "# # I also subsetted on messages that contained a green box (originally I chose a black box, but some people\n",
    "# # For whatever reason are in light mode, so green box was better in my opinion)\n",
    "\n",
    "# boxes = rm_like.loc[rm_like['text'].str.contains('🟩|🟧', na=False, regex=True)]\n",
    "\n",
    "# # Someone's language settings in my groupchat was set to Spanish, so \"Exclamo\" came up a few times\n",
    "# rm_exclam = boxes.loc[~boxes['text'].str.contains('Exclam', na=False)]\n",
    "# rm_gust = rm_exclam.loc[~rm_exclam['text'].str.contains('Le gust', na=False)]\n",
    "# rm_encant = rm_gust.loc[~rm_gust['text'].str.contains('Le encan', na=False)]\n",
    "\n",
    "# # I exported to a csv to check all was well\n",
    "# rm_encant.to_csv(\"imessages.csv\")"
   ]
  },
  {
   "cell_type": "code",
   "execution_count": 13,
   "id": "eaf56bef",
   "metadata": {
    "id": "eaf56bef"
   },
   "outputs": [],
   "source": [
    "# I consolidated the chunk above to the three lines below\n",
    "\n",
    "# I noticed that the above code is so unneccessary\n",
    "# Just subset the ones that don't have \"Wordle because all reaction texts include this\n",
    "# Note: I assume no one does something like put their Wordle score in quotes for no reason\n",
    "rm_react = wordle_scores.loc[~wordle_scores['text'].str.contains('“Wordle ', na=False)]\n",
    "\n",
    "# Below will remove instances where someone didn't get a single correct letter\n",
    "# That result was probably them trolling anyway, so it's not too bad to remove\n",
    "# That outlier.\n",
    "\n",
    "# 5/11/22: Added functionality for Wordle's new accessiblity mode (replaces yellow\n",
    "# and green boxes with orange and blue ones\n",
    "boxes = rm_react.loc[rm_react['text'].str.contains('🟩|🟧', na=False, regex=True)]\n",
    "\n",
    "# I exported to a csv to check all was well\n",
    "boxes.to_csv(\"imessages.csv\")"
   ]
  },
  {
   "cell_type": "code",
   "execution_count": 14,
   "id": "56830461",
   "metadata": {
    "id": "56830461"
   },
   "outputs": [],
   "source": [
    "cleaned = boxes.copy(deep=True)"
   ]
  },
  {
   "cell_type": "code",
   "execution_count": 15,
   "id": "52b5ef6e",
   "metadata": {
    "id": "52b5ef6e",
    "outputId": "8b79b12f-fa8c-4ccb-996a-2968162eebbb"
   },
   "outputs": [
    {
     "data": {
      "text/plain": [
       "160"
      ]
     },
     "execution_count": 15,
     "metadata": {},
     "output_type": "execute_result"
    }
   ],
   "source": [
    "# Make empty list for scores, I'll put the scores as an integer in here for each row\n",
    "# Current row is something like \"Wordle 243 2/6 ...\"\n",
    "# Need to strip it down to just the 2 before the /6\n",
    "# Use regular expressions to do this\n",
    "score = []\n",
    "for line in cleaned.text:\n",
    "    raw_score = re.findall(r\".\\/6\", line)[0]\n",
    "    format_score = re.sub('\\/6', \"\", raw_score)\n",
    "    format_score_misses = int(re.sub('X', '7', format_score))\n",
    "    score.append(format_score_misses)\n",
    "len(score)\n",
    "# Update: 4/4/22 - This number was 533."
   ]
  },
  {
   "cell_type": "code",
   "execution_count": 13,
   "id": "91f3142c",
   "metadata": {
    "id": "91f3142c"
   },
   "outputs": [],
   "source": [
    "wordle_num = []\n",
    "for line in cleaned.text:\n",
    "    this_num = int(re.findall(r\"\\d+(?= \\w)\", line)[0])\n",
    "    wordle_num.append(this_num)"
   ]
  },
  {
   "cell_type": "code",
   "execution_count": 14,
   "id": "5c88f708",
   "metadata": {
    "id": "5c88f708"
   },
   "outputs": [],
   "source": [
    "# Put these results in a dataframe and concatenate with the cleaned dataframe\n",
    "score_df = pd.DataFrame(score)\n",
    "wordle_num_df = pd.DataFrame(wordle_num)\n",
    "cleaned_df = pd.concat([wordle_num_df, cleaned.reset_index(drop=True), score_df], axis =1, ignore_index = True)\n",
    "cleaned_df.columns = ['wordle_num', 'text', 'handle_id', 'date', 'message_date', 'timestamp', 'month',\n",
    "                      'year', 'is_sent', 'message_id', 'phone_number', 'chat_id', 'score']"
   ]
  },
  {
   "cell_type": "code",
   "execution_count": 15,
   "id": "3f2ae9d5",
   "metadata": {
    "id": "3f2ae9d5"
   },
   "outputs": [],
   "source": [
    "# Here I changed the numbers to the person's name\n",
    "# Note that my texts were showing up as NaNs in the phone_number column, so I put my name in here\n",
    "# cleaned_df.loc[pd.isnull(cleaned_df['phone_number']), 'phone_number'] = 'Will'\n",
    "# cleaned_df.loc[cleaned_df['phone_number'] == '+18016631007', 'phone_number'] = 'Bobbette'\n",
    "# cleaned_df.loc[cleaned_df['phone_number'] == '+18307193677', 'phone_number'] = 'Bobia'\n",
    "# cleaned_df.loc[cleaned_df['phone_number'] == '+19253543903', 'phone_number'] = 'Boba'\n",
    "# cleaned_df.loc[cleaned_df['phone_number'] == '+14086660152', 'phone_number'] = 'Robin'\n",
    "# cleaned_df.loc[cleaned_df['phone_number'] == '+19496329313', 'phone_number'] = 'Bob'\n",
    "# cleaned_df.loc[cleaned_df['phone_number'] == '+12089820639', 'phone_number'] = 'Bobby'\n",
    "# cleaned_df.loc[cleaned_df['phone_number'] == '+13105147216', 'phone_number'] = 'Bobbie'\n",
    "# cleaned_df.loc[cleaned_df['phone_number'] == '+12167125706', 'phone_number'] = 'Rob'\n",
    "# cleaned_df.loc[cleaned_df['phone_number'] == '+18182991475', 'phone_number'] = 'Robert'\n",
    "# cleaned_df.loc[cleaned_df['phone_number'] == '+12408880323', 'phone_number'] = 'Robby'\n",
    "\n",
    "\n",
    "# cleaned_df.loc[pd.isnull(cleaned_df['phone_number']), 'phone_number'] = 'Will'\n",
    "# cleaned_df.loc[cleaned_df['phone_number'] == '+18016631007', 'phone_number'] = 'Isabel'\n",
    "# cleaned_df.loc[cleaned_df['phone_number'] == '+18307193677', 'phone_number'] = 'Daria'\n",
    "# cleaned_df.loc[cleaned_df['phone_number'] == '+19253543903', 'phone_number'] = 'Jenna'\n",
    "# cleaned_df.loc[cleaned_df['phone_number'] == '+14086660152', 'phone_number'] = 'Varun'\n",
    "# cleaned_df.loc[cleaned_df['phone_number'] == '+19496329313', 'phone_number'] = 'Ben'\n",
    "# cleaned_df.loc[cleaned_df['phone_number'] == '+12089820639', 'phone_number'] = 'Macy'\n",
    "# cleaned_df.loc[cleaned_df['phone_number'] == '+13105147216', 'phone_number'] = 'Hari'\n",
    "# cleaned_df.loc[cleaned_df['phone_number'] == '+12167125706', 'phone_number'] = 'Armaan'\n",
    "# cleaned_df.loc[cleaned_df['phone_number'] == '+18182991475', 'phone_number'] = 'Nick'\n",
    "# cleaned_df.loc[cleaned_df['phone_number'] == '+12408880323', 'phone_number'] = 'Joey'"
   ]
  },
  {
   "cell_type": "code",
   "execution_count": 15,
   "id": "9b5f7da9",
   "metadata": {
    "id": "9b5f7da9"
   },
   "outputs": [],
   "source": [
    "time_til_mid = []\n",
    "hr_min = []\n",
    "for row in cleaned.timestamp:\n",
    "    hr, minute = row.timetuple()[3:5]\n",
    "    hrmin = hr + minute/60\n",
    "    ttm = 24-hrmin\n",
    "    time_til_mid.append(ttm)\n",
    "    hr_min.append(hrmin)\n",
    "time_til_mid_df = pd.DataFrame(time_til_mid)\n",
    "time_til_mid_df.columns = ['time_til_mid']\n",
    "hrmin_df = pd.DataFrame(hr_min)\n",
    "hrmin_df.columns = ['time_from_mid']\n",
    "cleaned_temp = cleaned_df.copy(deep = True)\n",
    "time_df = pd.concat([cleaned_temp, time_til_mid_df, hrmin_df], axis = 1)"
   ]
  },
  {
   "cell_type": "code",
   "execution_count": 16,
   "id": "32f36d44",
   "metadata": {
    "id": "32f36d44"
   },
   "outputs": [
    {
     "name": "stderr",
     "output_type": "stream",
     "text": [
      "/var/folders/64/kktgr_017td3vw1nnvpfz4hw0000gn/T/ipykernel_67772/3439593813.py:9: FutureWarning: Not prepending group keys to the result index of transform-like apply. In the future, the group keys will be included in the index, regardless of whether the applied function returns a like-indexed object.\n",
      "To preserve the previous behavior, use\n",
      "\n",
      "\t>>> .groupby(..., group_keys=False)\n",
      "\n",
      "To adopt the future behavior and silence this warning, use \n",
      "\n",
      "\t>>> .groupby(..., group_keys=True)\n",
      "  cleaned_df_2['cum_score'] = (cleaned_df_2.groupby('name_2')['score'].apply(lambda x: x.shift().expanding().mean()))\n",
      "/var/folders/64/kktgr_017td3vw1nnvpfz4hw0000gn/T/ipykernel_67772/3439593813.py:14: FutureWarning: Not prepending group keys to the result index of transform-like apply. In the future, the group keys will be included in the index, regardless of whether the applied function returns a like-indexed object.\n",
      "To preserve the previous behavior, use\n",
      "\n",
      "\t>>> .groupby(..., group_keys=False)\n",
      "\n",
      "To adopt the future behavior and silence this warning, use \n",
      "\n",
      "\t>>> .groupby(..., group_keys=True)\n",
      "  cleaned_df_2['cum_time_fm'] = (cleaned_df_2.groupby('name_2')['time_from_mid'].apply(lambda x: x.shift().expanding().mean()))\n",
      "/var/folders/64/kktgr_017td3vw1nnvpfz4hw0000gn/T/ipykernel_67772/3439593813.py:15: FutureWarning: Not prepending group keys to the result index of transform-like apply. In the future, the group keys will be included in the index, regardless of whether the applied function returns a like-indexed object.\n",
      "To preserve the previous behavior, use\n",
      "\n",
      "\t>>> .groupby(..., group_keys=False)\n",
      "\n",
      "To adopt the future behavior and silence this warning, use \n",
      "\n",
      "\t>>> .groupby(..., group_keys=True)\n",
      "  cleaned_df_2['cum_time_tm'] = (cleaned_df_2.groupby('name_2')['time_til_mid'].apply(lambda x: x.shift().expanding().mean()))\n"
     ]
    }
   ],
   "source": [
    "gm_wordle = time_df.loc[time_df.chat_id == 1720]\n",
    "cleaned_df_2 = pd.merge(gm_wordle, contact_list, on = 'phone_number', how = 'left')\n",
    "cleaned_df_2 = cleaned_df_2.sort_values(['date']).reset_index(drop = True)\n",
    "cleaned_df_2.loc[pd.isnull(cleaned_df_2['phone_number']), 'name_2'] = 'Will'\n",
    "cleaned_df_2.loc[pd.isnull(cleaned_df_2['phone_number']), 'name'] = 'Will'\n",
    "cleaned_df_2.loc[pd.isnull(cleaned_df_2['phone_number']), 'phone_number'] = '+12092263572'\n",
    "cleaned_df_2['score_7'] = cleaned_df_2.groupby('name_2')['score']\\\n",
    ".transform(lambda x: x.rolling(7, 1).mean())\n",
    "cleaned_df_2['cum_score'] = (cleaned_df_2.groupby('name_2')['score'].apply(lambda x: x.shift().expanding().mean()))\n",
    "cleaned_df_2['time_fm_7'] = cleaned_df_2.groupby('name_2')['time_from_mid']\\\n",
    ".transform(lambda x: x.rolling(7, 1).mean())\n",
    "cleaned_df_2['time_tm_7'] = cleaned_df_2.groupby('name_2')['time_til_mid']\\\n",
    ".transform(lambda x: x.rolling(7, 1).mean())\n",
    "cleaned_df_2['cum_time_fm'] = (cleaned_df_2.groupby('name_2')['time_from_mid'].apply(lambda x: x.shift().expanding().mean()))\n",
    "cleaned_df_2['cum_time_tm'] = (cleaned_df_2.groupby('name_2')['time_til_mid'].apply(lambda x: x.shift().expanding().mean()))\n",
    "mean_score = cleaned_df_2.score.mean(skipna=True)\n",
    "cleaned_df_2.to_csv('test_data.csv')"
   ]
  },
  {
   "cell_type": "code",
   "execution_count": 17,
   "id": "28db00c6",
   "metadata": {
    "id": "28db00c6"
   },
   "outputs": [],
   "source": [
    "winners = cleaned_df_2.groupby('wordle_num')['score'].min().reset_index()\n",
    "winners.rename(columns = {'score':'winning_score'}, inplace = True)\n",
    "speeders = cleaned_df_2.groupby('wordle_num')['time_from_mid'].min().reset_index()\n",
    "speeders.rename(columns = {'time_from_mid':'winning_time'}, inplace = True)\n"
   ]
  },
  {
   "cell_type": "code",
   "execution_count": 18,
   "id": "8ca6f1dc",
   "metadata": {
    "id": "8ca6f1dc",
    "outputId": "cac85ca4-e591-4b34-8b5b-779025f44fe3"
   },
   "outputs": [
    {
     "data": {
      "text/html": [
       "<div>\n",
       "<style scoped>\n",
       "    .dataframe tbody tr th:only-of-type {\n",
       "        vertical-align: middle;\n",
       "    }\n",
       "\n",
       "    .dataframe tbody tr th {\n",
       "        vertical-align: top;\n",
       "    }\n",
       "\n",
       "    .dataframe thead th {\n",
       "        text-align: right;\n",
       "    }\n",
       "</style>\n",
       "<table border=\"1\" class=\"dataframe\">\n",
       "  <thead>\n",
       "    <tr style=\"text-align: right;\">\n",
       "      <th></th>\n",
       "      <th>wordle_num</th>\n",
       "      <th>timestamp</th>\n",
       "    </tr>\n",
       "  </thead>\n",
       "  <tbody>\n",
       "    <tr>\n",
       "      <th>0</th>\n",
       "      <td>272</td>\n",
       "      <td>2022-03-18 00:08:13</td>\n",
       "    </tr>\n",
       "    <tr>\n",
       "      <th>1</th>\n",
       "      <td>305</td>\n",
       "      <td>2022-04-20 00:07:19</td>\n",
       "    </tr>\n",
       "    <tr>\n",
       "      <th>2</th>\n",
       "      <td>369</td>\n",
       "      <td>2022-06-22 22:04:42</td>\n",
       "    </tr>\n",
       "    <tr>\n",
       "      <th>3</th>\n",
       "      <td>370</td>\n",
       "      <td>2022-06-23 21:04:33</td>\n",
       "    </tr>\n",
       "    <tr>\n",
       "      <th>4</th>\n",
       "      <td>371</td>\n",
       "      <td>2022-06-24 11:42:57</td>\n",
       "    </tr>\n",
       "    <tr>\n",
       "      <th>5</th>\n",
       "      <td>391</td>\n",
       "      <td>2022-07-15 21:58:32</td>\n",
       "    </tr>\n",
       "    <tr>\n",
       "      <th>6</th>\n",
       "      <td>392</td>\n",
       "      <td>2022-07-15 21:01:46</td>\n",
       "    </tr>\n",
       "    <tr>\n",
       "      <th>7</th>\n",
       "      <td>402</td>\n",
       "      <td>2022-07-26 22:58:36</td>\n",
       "    </tr>\n",
       "    <tr>\n",
       "      <th>8</th>\n",
       "      <td>403</td>\n",
       "      <td>2022-07-26 22:03:29</td>\n",
       "    </tr>\n",
       "    <tr>\n",
       "      <th>9</th>\n",
       "      <td>404</td>\n",
       "      <td>2022-07-27 21:02:39</td>\n",
       "    </tr>\n",
       "    <tr>\n",
       "      <th>10</th>\n",
       "      <td>405</td>\n",
       "      <td>2022-07-28 21:10:54</td>\n",
       "    </tr>\n",
       "    <tr>\n",
       "      <th>11</th>\n",
       "      <td>422</td>\n",
       "      <td>2022-08-15 19:03:21</td>\n",
       "    </tr>\n",
       "    <tr>\n",
       "      <th>12</th>\n",
       "      <td>423</td>\n",
       "      <td>2022-08-16 00:01:46</td>\n",
       "    </tr>\n",
       "    <tr>\n",
       "      <th>13</th>\n",
       "      <td>424</td>\n",
       "      <td>2022-08-17 00:03:43</td>\n",
       "    </tr>\n",
       "    <tr>\n",
       "      <th>14</th>\n",
       "      <td>425</td>\n",
       "      <td>2022-08-18 00:01:07</td>\n",
       "    </tr>\n",
       "    <tr>\n",
       "      <th>15</th>\n",
       "      <td>426</td>\n",
       "      <td>2022-08-19 00:01:11</td>\n",
       "    </tr>\n",
       "    <tr>\n",
       "      <th>16</th>\n",
       "      <td>427</td>\n",
       "      <td>2022-08-20 10:58:19</td>\n",
       "    </tr>\n",
       "    <tr>\n",
       "      <th>17</th>\n",
       "      <td>428</td>\n",
       "      <td>2022-08-21 00:45:12</td>\n",
       "    </tr>\n",
       "    <tr>\n",
       "      <th>18</th>\n",
       "      <td>429</td>\n",
       "      <td>2022-08-22 00:02:29</td>\n",
       "    </tr>\n",
       "    <tr>\n",
       "      <th>19</th>\n",
       "      <td>435</td>\n",
       "      <td>2022-08-28 11:34:48</td>\n",
       "    </tr>\n",
       "    <tr>\n",
       "      <th>20</th>\n",
       "      <td>436</td>\n",
       "      <td>2022-08-29 00:03:42</td>\n",
       "    </tr>\n",
       "    <tr>\n",
       "      <th>21</th>\n",
       "      <td>437</td>\n",
       "      <td>2022-08-30 00:05:30</td>\n",
       "    </tr>\n",
       "    <tr>\n",
       "      <th>22</th>\n",
       "      <td>438</td>\n",
       "      <td>2022-08-31 00:05:38</td>\n",
       "    </tr>\n",
       "    <tr>\n",
       "      <th>23</th>\n",
       "      <td>439</td>\n",
       "      <td>2022-09-01 00:07:49</td>\n",
       "    </tr>\n",
       "    <tr>\n",
       "      <th>24</th>\n",
       "      <td>440</td>\n",
       "      <td>2022-09-02 00:01:36</td>\n",
       "    </tr>\n",
       "    <tr>\n",
       "      <th>25</th>\n",
       "      <td>441</td>\n",
       "      <td>2022-09-03 00:02:16</td>\n",
       "    </tr>\n",
       "    <tr>\n",
       "      <th>26</th>\n",
       "      <td>442</td>\n",
       "      <td>2022-09-04 00:02:14</td>\n",
       "    </tr>\n",
       "    <tr>\n",
       "      <th>27</th>\n",
       "      <td>443</td>\n",
       "      <td>2022-09-05 00:02:51</td>\n",
       "    </tr>\n",
       "    <tr>\n",
       "      <th>28</th>\n",
       "      <td>477</td>\n",
       "      <td>2022-10-09 22:42:14</td>\n",
       "    </tr>\n",
       "    <tr>\n",
       "      <th>29</th>\n",
       "      <td>478</td>\n",
       "      <td>2022-10-10 00:54:24</td>\n",
       "    </tr>\n",
       "    <tr>\n",
       "      <th>30</th>\n",
       "      <td>479</td>\n",
       "      <td>2022-10-11 00:03:10</td>\n",
       "    </tr>\n",
       "    <tr>\n",
       "      <th>31</th>\n",
       "      <td>480</td>\n",
       "      <td>2022-10-12 00:01:35</td>\n",
       "    </tr>\n",
       "    <tr>\n",
       "      <th>32</th>\n",
       "      <td>481</td>\n",
       "      <td>2022-10-13 00:01:17</td>\n",
       "    </tr>\n",
       "    <tr>\n",
       "      <th>33</th>\n",
       "      <td>482</td>\n",
       "      <td>2022-10-14 00:30:56</td>\n",
       "    </tr>\n",
       "    <tr>\n",
       "      <th>34</th>\n",
       "      <td>483</td>\n",
       "      <td>2022-10-15 00:03:49</td>\n",
       "    </tr>\n",
       "    <tr>\n",
       "      <th>35</th>\n",
       "      <td>484</td>\n",
       "      <td>2022-10-16 10:35:35</td>\n",
       "    </tr>\n",
       "    <tr>\n",
       "      <th>36</th>\n",
       "      <td>485</td>\n",
       "      <td>2022-10-17 00:28:35</td>\n",
       "    </tr>\n",
       "    <tr>\n",
       "      <th>37</th>\n",
       "      <td>486</td>\n",
       "      <td>2022-10-18 00:05:43</td>\n",
       "    </tr>\n",
       "    <tr>\n",
       "      <th>38</th>\n",
       "      <td>487</td>\n",
       "      <td>2022-10-19 00:14:29</td>\n",
       "    </tr>\n",
       "    <tr>\n",
       "      <th>39</th>\n",
       "      <td>511</td>\n",
       "      <td>2022-11-12 00:19:07</td>\n",
       "    </tr>\n",
       "    <tr>\n",
       "      <th>40</th>\n",
       "      <td>513</td>\n",
       "      <td>2022-11-14 00:02:47</td>\n",
       "    </tr>\n",
       "    <tr>\n",
       "      <th>41</th>\n",
       "      <td>514</td>\n",
       "      <td>2022-11-15 00:01:03</td>\n",
       "    </tr>\n",
       "    <tr>\n",
       "      <th>42</th>\n",
       "      <td>515</td>\n",
       "      <td>2022-11-16 00:33:20</td>\n",
       "    </tr>\n",
       "    <tr>\n",
       "      <th>43</th>\n",
       "      <td>516</td>\n",
       "      <td>2022-11-17 00:02:54</td>\n",
       "    </tr>\n",
       "    <tr>\n",
       "      <th>44</th>\n",
       "      <td>517</td>\n",
       "      <td>2022-11-18 09:24:12</td>\n",
       "    </tr>\n",
       "    <tr>\n",
       "      <th>45</th>\n",
       "      <td>526</td>\n",
       "      <td>2022-11-27 10:02:29</td>\n",
       "    </tr>\n",
       "    <tr>\n",
       "      <th>46</th>\n",
       "      <td>527</td>\n",
       "      <td>2022-11-28 00:00:52</td>\n",
       "    </tr>\n",
       "    <tr>\n",
       "      <th>47</th>\n",
       "      <td>528</td>\n",
       "      <td>2022-11-29 00:01:11</td>\n",
       "    </tr>\n",
       "    <tr>\n",
       "      <th>48</th>\n",
       "      <td>529</td>\n",
       "      <td>2022-11-30 00:01:46</td>\n",
       "    </tr>\n",
       "    <tr>\n",
       "      <th>49</th>\n",
       "      <td>530</td>\n",
       "      <td>2022-12-01 00:08:02</td>\n",
       "    </tr>\n",
       "    <tr>\n",
       "      <th>50</th>\n",
       "      <td>531</td>\n",
       "      <td>2022-12-02 00:03:55</td>\n",
       "    </tr>\n",
       "    <tr>\n",
       "      <th>51</th>\n",
       "      <td>610</td>\n",
       "      <td>2023-02-19 23:54:54</td>\n",
       "    </tr>\n",
       "  </tbody>\n",
       "</table>\n",
       "</div>"
      ],
      "text/plain": [
       "    wordle_num           timestamp\n",
       "0          272 2022-03-18 00:08:13\n",
       "1          305 2022-04-20 00:07:19\n",
       "2          369 2022-06-22 22:04:42\n",
       "3          370 2022-06-23 21:04:33\n",
       "4          371 2022-06-24 11:42:57\n",
       "5          391 2022-07-15 21:58:32\n",
       "6          392 2022-07-15 21:01:46\n",
       "7          402 2022-07-26 22:58:36\n",
       "8          403 2022-07-26 22:03:29\n",
       "9          404 2022-07-27 21:02:39\n",
       "10         405 2022-07-28 21:10:54\n",
       "11         422 2022-08-15 19:03:21\n",
       "12         423 2022-08-16 00:01:46\n",
       "13         424 2022-08-17 00:03:43\n",
       "14         425 2022-08-18 00:01:07\n",
       "15         426 2022-08-19 00:01:11\n",
       "16         427 2022-08-20 10:58:19\n",
       "17         428 2022-08-21 00:45:12\n",
       "18         429 2022-08-22 00:02:29\n",
       "19         435 2022-08-28 11:34:48\n",
       "20         436 2022-08-29 00:03:42\n",
       "21         437 2022-08-30 00:05:30\n",
       "22         438 2022-08-31 00:05:38\n",
       "23         439 2022-09-01 00:07:49\n",
       "24         440 2022-09-02 00:01:36\n",
       "25         441 2022-09-03 00:02:16\n",
       "26         442 2022-09-04 00:02:14\n",
       "27         443 2022-09-05 00:02:51\n",
       "28         477 2022-10-09 22:42:14\n",
       "29         478 2022-10-10 00:54:24\n",
       "30         479 2022-10-11 00:03:10\n",
       "31         480 2022-10-12 00:01:35\n",
       "32         481 2022-10-13 00:01:17\n",
       "33         482 2022-10-14 00:30:56\n",
       "34         483 2022-10-15 00:03:49\n",
       "35         484 2022-10-16 10:35:35\n",
       "36         485 2022-10-17 00:28:35\n",
       "37         486 2022-10-18 00:05:43\n",
       "38         487 2022-10-19 00:14:29\n",
       "39         511 2022-11-12 00:19:07\n",
       "40         513 2022-11-14 00:02:47\n",
       "41         514 2022-11-15 00:01:03\n",
       "42         515 2022-11-16 00:33:20\n",
       "43         516 2022-11-17 00:02:54\n",
       "44         517 2022-11-18 09:24:12\n",
       "45         526 2022-11-27 10:02:29\n",
       "46         527 2022-11-28 00:00:52\n",
       "47         528 2022-11-29 00:01:11\n",
       "48         529 2022-11-30 00:01:46\n",
       "49         530 2022-12-01 00:08:02\n",
       "50         531 2022-12-02 00:03:55\n",
       "51         610 2023-02-19 23:54:54"
      ]
     },
     "execution_count": 18,
     "metadata": {},
     "output_type": "execute_result"
    }
   ],
   "source": [
    "cleaned_df_2.groupby('wordle_num')['timestamp'].min().reset_index()\n"
   ]
  },
  {
   "cell_type": "code",
   "execution_count": 19,
   "id": "505f826c",
   "metadata": {
    "id": "505f826c",
    "scrolled": true
   },
   "outputs": [],
   "source": [
    "winner_dummy = []\n",
    "for i in range(len(cleaned_df_2)):\n",
    "    this_row = cleaned_df_2.iloc[[i]]\n",
    "    temp = winners.merge(this_row[['wordle_num', 'score']], on = 'wordle_num', how = 'right')\n",
    "    if temp['winning_score'].item() == temp['score'].item():\n",
    "        winner_dummy.append(1)\n",
    "    else:\n",
    "        winner_dummy.append(0)\n",
    "winner_df = pd.DataFrame(winner_dummy)\n",
    "winner_df.columns = ['winner_dummy']\n",
    "\n",
    "speeder_dummy = []\n",
    "for i in range(len(cleaned_df_2)):\n",
    "    this_row = cleaned_df_2.iloc[[i]]\n",
    "    temp = speeders.merge(this_row[['wordle_num', 'time_from_mid']], on = 'wordle_num', how = 'right')\n",
    "    if temp['winning_time'].item() == temp['time_from_mid'].item():\n",
    "        speeder_dummy.append(1)\n",
    "    else:\n",
    "        speeder_dummy.append(0)\n",
    "speeder_df = pd.DataFrame(speeder_dummy)\n",
    "speeder_df.columns = ['speeder_df']"
   ]
  },
  {
   "cell_type": "code",
   "execution_count": 20,
   "id": "a6731b88",
   "metadata": {
    "id": "a6731b88",
    "scrolled": true
   },
   "outputs": [],
   "source": [
    "new = pd.concat([cleaned_df_2, winner_df, speeder_df], axis = 1)"
   ]
  },
  {
   "cell_type": "code",
   "execution_count": 21,
   "id": "76260113",
   "metadata": {
    "id": "76260113"
   },
   "outputs": [],
   "source": [
    "#################################################\n",
    "#### 3.E Adding rolling and cumulative means ####\n",
    "#################################################\n",
    "\n",
    "rolling_line_fig_score = px.line(data_frame=cleaned_df_2, x='date', y='cum_score', title='Rolling Weekly Mean for Score', color = 'name_2')\n",
    "rolling_line_fig_time = px.line(data_frame=new, x='date', y='cum_time_fm', title='Rolling Weekly Mean for Time', color = 'name_2')\n",
    "\n",
    "score_bar_fig = px.histogram(data_frame = new, x=\"score\")\n",
    "mean_score = new.score.mean(skipna=True)"
   ]
  },
  {
   "cell_type": "code",
   "execution_count": 22,
   "id": "cf7c324b",
   "metadata": {
    "id": "cf7c324b",
    "outputId": "8a4d677b-477c-4aaf-bcd8-1b36e200c15f"
   },
   "outputs": [
    {
     "data": {
      "application/vnd.plotly.v1+json": {
       "config": {
        "plotlyServerURL": "https://plot.ly"
       },
       "data": [
        {
         "hovertemplate": "name_2=Macy<br>date=%{x}<br>cum_time_fm=%{y}<extra></extra>",
         "legendgroup": "Macy",
         "line": {
          "color": "#636efa",
          "dash": "solid"
         },
         "marker": {
          "symbol": "circle"
         },
         "mode": "lines",
         "name": "Macy",
         "orientation": "v",
         "showlegend": true,
         "type": "scatter",
         "x": [
          "2022-03-18"
         ],
         "xaxis": "x",
         "y": [
          null
         ],
         "yaxis": "y"
        },
        {
         "hovertemplate": "name_2=Varun<br>date=%{x}<br>cum_time_fm=%{y}<extra></extra>",
         "legendgroup": "Varun",
         "line": {
          "color": "#EF553B",
          "dash": "solid"
         },
         "marker": {
          "symbol": "circle"
         },
         "mode": "lines",
         "name": "Varun",
         "orientation": "v",
         "showlegend": true,
         "type": "scatter",
         "x": [
          "2022-03-18",
          "2022-06-24",
          "2022-07-16",
          "2022-07-26",
          "2022-07-28",
          "2022-08-16",
          "2022-08-17",
          "2022-08-18",
          "2022-08-19",
          "2022-08-20",
          "2022-08-21",
          "2022-08-22",
          "2022-08-29",
          "2022-08-30",
          "2022-08-31",
          "2022-09-01",
          "2022-09-02",
          "2022-09-03",
          "2022-09-04",
          "2022-09-05",
          "2022-10-10",
          "2022-10-11",
          "2022-10-12",
          "2022-10-13",
          "2022-10-14",
          "2022-10-15",
          "2022-10-16",
          "2022-10-17",
          "2022-10-18",
          "2022-10-19",
          "2022-11-12",
          "2022-11-14",
          "2022-11-15",
          "2022-11-16",
          "2022-11-17",
          "2022-11-18",
          "2022-11-28",
          "2022-11-29",
          "2022-11-30",
          "2022-12-01",
          "2022-12-02"
         ],
         "xaxis": "x",
         "y": [
          null,
          0.15,
          5.925,
          6.838888888888889,
          10.641666666666666,
          8.533333333333333,
          7.113888888888888,
          6.104761904761905,
          5.34375,
          4.7518518518518515,
          5.413333333333333,
          4.993939393939393,
          4.580555555555556,
          4.232051282051282,
          3.935714285714286,
          3.678888888888889,
          3.45625,
          3.253921568627451,
          3.075,
          3.0271929824561403,
          2.8775,
          2.7833333333333337,
          2.659090909090909,
          2.544202898550725,
          2.4388888888888887,
          2.361333333333333,
          2.2724358974358974,
          2.5802469135802473,
          2.5047619047619043,
          2.421264367816092,
          2.3483333333333336,
          2.282795698924731,
          2.2125,
          2.145959595959596,
          2.099019607843137,
          2.04,
          2.2444444444444445,
          2.1837837837837837,
          2.126754385964912,
          2.0726495726495724,
          2.024166666666667
         ],
         "yaxis": "y"
        },
        {
         "hovertemplate": "name_2=Jenna<br>date=%{x}<br>cum_time_fm=%{y}<extra></extra>",
         "legendgroup": "Jenna",
         "line": {
          "color": "#00cc96",
          "dash": "solid"
         },
         "marker": {
          "symbol": "circle"
         },
         "mode": "lines",
         "name": "Jenna",
         "orientation": "v",
         "showlegend": true,
         "type": "scatter",
         "x": [
          "2022-03-18",
          "2022-06-22",
          "2022-06-23",
          "2022-07-16",
          "2022-07-26",
          "2022-07-28",
          "2022-08-18",
          "2022-08-19",
          "2022-08-20",
          "2022-08-21",
          "2022-08-28",
          "2022-09-01",
          "2022-09-02"
         ],
         "xaxis": "x",
         "y": [
          null,
          6.9,
          14.483333333333334,
          16.894444444444442,
          14.133333333333333,
          15.9,
          14.475,
          15.049999999999999,
          14.889583333333333,
          14.459259259259259,
          14.041666666666666,
          14.8,
          15.093055555555557
         ],
         "yaxis": "y"
        },
        {
         "hovertemplate": "name_2=Ben<br>date=%{x}<br>cum_time_fm=%{y}<extra></extra>",
         "legendgroup": "Ben",
         "line": {
          "color": "#ab63fa",
          "dash": "solid"
         },
         "marker": {
          "symbol": "circle"
         },
         "mode": "lines",
         "name": "Ben",
         "orientation": "v",
         "showlegend": true,
         "type": "scatter",
         "x": [
          "2022-03-18",
          "2022-06-24",
          "2022-07-16",
          "2022-07-27",
          "2022-07-28",
          "2022-08-15",
          "2022-08-16",
          "2022-08-17",
          "2022-08-18",
          "2022-08-20",
          "2022-08-21",
          "2022-08-30",
          "2022-08-31",
          "2022-09-01",
          "2022-09-02",
          "2022-10-09",
          "2022-10-12",
          "2022-10-14",
          "2022-10-16",
          "2022-11-27",
          "2022-11-28",
          "2022-11-29",
          "2022-12-01"
         ],
         "xaxis": "x",
         "y": [
          null,
          2.4833333333333334,
          1.55,
          1.1166666666666667,
          2.6375,
          3.586666666666667,
          6.627777777777777,
          6.711904761904762,
          6.81875,
          6.944444444444445,
          7.35,
          6.75,
          6.797222222222222,
          6.923076923076923,
          7.016666666666667,
          7.1322222222222225,
          8.105208333333334,
          8.15,
          8.187037037037037,
          8.314035087719299,
          8.4,
          9.048412698412697,
          8.64090909090909
         ],
         "yaxis": "y"
        },
        {
         "hovertemplate": "name_2=Will<br>date=%{x}<br>cum_time_fm=%{y}<extra></extra>",
         "legendgroup": "Will",
         "line": {
          "color": "#FFA15A",
          "dash": "solid"
         },
         "marker": {
          "symbol": "circle"
         },
         "mode": "lines",
         "name": "Will",
         "orientation": "v",
         "showlegend": true,
         "type": "scatter",
         "x": [
          "2022-03-18",
          "2022-06-23",
          "2022-06-24",
          "2022-07-27",
          "2022-07-28",
          "2022-08-16",
          "2022-08-17",
          "2022-08-18",
          "2022-08-19",
          "2022-08-20",
          "2022-08-21",
          "2022-08-22",
          "2022-08-28",
          "2022-08-29",
          "2022-08-30",
          "2022-08-31",
          "2022-09-01",
          "2022-09-02",
          "2022-09-04",
          "2022-10-10",
          "2022-10-11",
          "2022-10-12",
          "2022-10-13",
          "2022-10-14",
          "2022-10-15",
          "2022-10-16",
          "2022-10-17",
          "2022-10-19",
          "2022-11-27",
          "2022-11-28",
          "2022-11-29",
          "2022-11-30",
          "2022-12-01",
          "2022-12-02",
          "2023-02-19"
         ],
         "xaxis": "x",
         "y": [
          null,
          7.183333333333334,
          14.341666666666667,
          12.744444444444445,
          11.370833333333334,
          10.703333333333333,
          9.883333333333333,
          9.530952380952382,
          9.185416666666667,
          8.853703703703705,
          9.065000000000001,
          9.201515151515151,
          8.916666666666666,
          9.12051282051282,
          9.120238095238095,
          9.112222222222222,
          9.0625,
          9.014705882352942,
          8.994444444444445,
          8.52280701754386,
          8.535,
          8.90873015873016,
          8.90530303030303,
          9.00072463768116,
          8.950000000000001,
          8.826666666666666,
          9.298076923076923,
          9.24567901234568,
          9.207738095238096,
          9.372988505747127,
          9.298888888888888,
          9.440860215053764,
          9.392708333333333,
          9.362121212121211,
          9.319117647058825
         ],
         "yaxis": "y"
        },
        {
         "hovertemplate": "name_2=Daria<br>date=%{x}<br>cum_time_fm=%{y}<extra></extra>",
         "legendgroup": "Daria",
         "line": {
          "color": "#19d3f3",
          "dash": "solid"
         },
         "marker": {
          "symbol": "circle"
         },
         "mode": "lines",
         "name": "Daria",
         "orientation": "v",
         "showlegend": true,
         "type": "scatter",
         "x": [
          "2022-03-18",
          "2022-06-24"
         ],
         "xaxis": "x",
         "y": [
          null,
          0.5166666666666667
         ],
         "yaxis": "y"
        },
        {
         "hovertemplate": "name_2=Armaan<br>date=%{x}<br>cum_time_fm=%{y}<extra></extra>",
         "legendgroup": "Armaan",
         "line": {
          "color": "#FF6692",
          "dash": "solid"
         },
         "marker": {
          "symbol": "circle"
         },
         "mode": "lines",
         "name": "Armaan",
         "orientation": "v",
         "showlegend": true,
         "type": "scatter",
         "x": [
          "2022-03-18",
          "2022-04-20"
         ],
         "xaxis": "x",
         "y": [
          null,
          0.23333333333333334
         ],
         "yaxis": "y"
        },
        {
         "hovertemplate": "name_2=Hari<br>date=%{x}<br>cum_time_fm=%{y}<extra></extra>",
         "legendgroup": "Hari",
         "line": {
          "color": "#B6E880",
          "dash": "solid"
         },
         "marker": {
          "symbol": "circle"
         },
         "mode": "lines",
         "name": "Hari",
         "orientation": "v",
         "showlegend": true,
         "type": "scatter",
         "x": [
          "2022-03-18",
          "2022-10-10"
         ],
         "xaxis": "x",
         "y": [
          null,
          0.13333333333333333
         ],
         "yaxis": "y"
        },
        {
         "hovertemplate": "name_2=Isabel<br>date=%{x}<br>cum_time_fm=%{y}<extra></extra>",
         "legendgroup": "Isabel",
         "line": {
          "color": "#FF97FF",
          "dash": "solid"
         },
         "marker": {
          "symbol": "circle"
         },
         "mode": "lines",
         "name": "Isabel",
         "orientation": "v",
         "showlegend": true,
         "type": "scatter",
         "x": [
          "2022-03-18",
          "2022-06-24",
          "2022-07-15",
          "2022-07-16",
          "2022-08-17",
          "2022-09-04",
          "2022-10-09"
         ],
         "xaxis": "x",
         "y": [
          null,
          0.5666666666666667,
          0.6083333333333334,
          7.727777777777777,
          7.804166666666667,
          10.66,
          8.891666666666666
         ],
         "yaxis": "y"
        },
        {
         "hovertemplate": "name_2=Joey<br>date=%{x}<br>cum_time_fm=%{y}<extra></extra>",
         "legendgroup": "Joey",
         "line": {
          "color": "#FECB52",
          "dash": "solid"
         },
         "marker": {
          "symbol": "circle"
         },
         "mode": "lines",
         "name": "Joey",
         "orientation": "v",
         "showlegend": true,
         "type": "scatter",
         "x": [
          "2022-06-23",
          "2022-07-15",
          "2022-07-27",
          "2022-07-27",
          "2022-07-28",
          "2022-08-15"
         ],
         "xaxis": "x",
         "y": [
          null,
          21.066666666666666,
          21.041666666666664,
          21.005555555555556,
          21.0125,
          21.043333333333333
         ],
         "yaxis": "y"
        },
        {
         "hovertemplate": "name_2=Nick<br>date=%{x}<br>cum_time_fm=%{y}<extra></extra>",
         "legendgroup": "Nick",
         "line": {
          "color": "#636efa",
          "dash": "solid"
         },
         "marker": {
          "symbol": "circle"
         },
         "mode": "lines",
         "name": "Nick",
         "orientation": "v",
         "showlegend": true,
         "type": "scatter",
         "x": [
          "2022-06-24",
          "2022-07-16",
          "2022-07-27",
          "2022-08-20",
          "2022-08-31"
         ],
         "xaxis": "x",
         "y": [
          null,
          8.133333333333333,
          8.783333333333333,
          6.311111111111111,
          7.545833333333333
         ],
         "yaxis": "y"
        },
        {
         "hovertemplate": "name_2=Santi<br>date=%{x}<br>cum_time_fm=%{y}<extra></extra>",
         "legendgroup": "Santi",
         "line": {
          "color": "#EF553B",
          "dash": "solid"
         },
         "marker": {
          "symbol": "circle"
         },
         "mode": "lines",
         "name": "Santi",
         "orientation": "v",
         "showlegend": true,
         "type": "scatter",
         "x": [
          "2022-11-28",
          "2022-11-30"
         ],
         "xaxis": "x",
         "y": [
          null,
          23.05
         ],
         "yaxis": "y"
        }
       ],
       "layout": {
        "legend": {
         "title": {
          "text": "name_2"
         },
         "tracegroupgap": 0
        },
        "template": {
         "data": {
          "bar": [
           {
            "error_x": {
             "color": "#2a3f5f"
            },
            "error_y": {
             "color": "#2a3f5f"
            },
            "marker": {
             "line": {
              "color": "#E5ECF6",
              "width": 0.5
             },
             "pattern": {
              "fillmode": "overlay",
              "size": 10,
              "solidity": 0.2
             }
            },
            "type": "bar"
           }
          ],
          "barpolar": [
           {
            "marker": {
             "line": {
              "color": "#E5ECF6",
              "width": 0.5
             },
             "pattern": {
              "fillmode": "overlay",
              "size": 10,
              "solidity": 0.2
             }
            },
            "type": "barpolar"
           }
          ],
          "carpet": [
           {
            "aaxis": {
             "endlinecolor": "#2a3f5f",
             "gridcolor": "white",
             "linecolor": "white",
             "minorgridcolor": "white",
             "startlinecolor": "#2a3f5f"
            },
            "baxis": {
             "endlinecolor": "#2a3f5f",
             "gridcolor": "white",
             "linecolor": "white",
             "minorgridcolor": "white",
             "startlinecolor": "#2a3f5f"
            },
            "type": "carpet"
           }
          ],
          "choropleth": [
           {
            "colorbar": {
             "outlinewidth": 0,
             "ticks": ""
            },
            "type": "choropleth"
           }
          ],
          "contour": [
           {
            "colorbar": {
             "outlinewidth": 0,
             "ticks": ""
            },
            "colorscale": [
             [
              0,
              "#0d0887"
             ],
             [
              0.1111111111111111,
              "#46039f"
             ],
             [
              0.2222222222222222,
              "#7201a8"
             ],
             [
              0.3333333333333333,
              "#9c179e"
             ],
             [
              0.4444444444444444,
              "#bd3786"
             ],
             [
              0.5555555555555556,
              "#d8576b"
             ],
             [
              0.6666666666666666,
              "#ed7953"
             ],
             [
              0.7777777777777778,
              "#fb9f3a"
             ],
             [
              0.8888888888888888,
              "#fdca26"
             ],
             [
              1,
              "#f0f921"
             ]
            ],
            "type": "contour"
           }
          ],
          "contourcarpet": [
           {
            "colorbar": {
             "outlinewidth": 0,
             "ticks": ""
            },
            "type": "contourcarpet"
           }
          ],
          "heatmap": [
           {
            "colorbar": {
             "outlinewidth": 0,
             "ticks": ""
            },
            "colorscale": [
             [
              0,
              "#0d0887"
             ],
             [
              0.1111111111111111,
              "#46039f"
             ],
             [
              0.2222222222222222,
              "#7201a8"
             ],
             [
              0.3333333333333333,
              "#9c179e"
             ],
             [
              0.4444444444444444,
              "#bd3786"
             ],
             [
              0.5555555555555556,
              "#d8576b"
             ],
             [
              0.6666666666666666,
              "#ed7953"
             ],
             [
              0.7777777777777778,
              "#fb9f3a"
             ],
             [
              0.8888888888888888,
              "#fdca26"
             ],
             [
              1,
              "#f0f921"
             ]
            ],
            "type": "heatmap"
           }
          ],
          "heatmapgl": [
           {
            "colorbar": {
             "outlinewidth": 0,
             "ticks": ""
            },
            "colorscale": [
             [
              0,
              "#0d0887"
             ],
             [
              0.1111111111111111,
              "#46039f"
             ],
             [
              0.2222222222222222,
              "#7201a8"
             ],
             [
              0.3333333333333333,
              "#9c179e"
             ],
             [
              0.4444444444444444,
              "#bd3786"
             ],
             [
              0.5555555555555556,
              "#d8576b"
             ],
             [
              0.6666666666666666,
              "#ed7953"
             ],
             [
              0.7777777777777778,
              "#fb9f3a"
             ],
             [
              0.8888888888888888,
              "#fdca26"
             ],
             [
              1,
              "#f0f921"
             ]
            ],
            "type": "heatmapgl"
           }
          ],
          "histogram": [
           {
            "marker": {
             "pattern": {
              "fillmode": "overlay",
              "size": 10,
              "solidity": 0.2
             }
            },
            "type": "histogram"
           }
          ],
          "histogram2d": [
           {
            "colorbar": {
             "outlinewidth": 0,
             "ticks": ""
            },
            "colorscale": [
             [
              0,
              "#0d0887"
             ],
             [
              0.1111111111111111,
              "#46039f"
             ],
             [
              0.2222222222222222,
              "#7201a8"
             ],
             [
              0.3333333333333333,
              "#9c179e"
             ],
             [
              0.4444444444444444,
              "#bd3786"
             ],
             [
              0.5555555555555556,
              "#d8576b"
             ],
             [
              0.6666666666666666,
              "#ed7953"
             ],
             [
              0.7777777777777778,
              "#fb9f3a"
             ],
             [
              0.8888888888888888,
              "#fdca26"
             ],
             [
              1,
              "#f0f921"
             ]
            ],
            "type": "histogram2d"
           }
          ],
          "histogram2dcontour": [
           {
            "colorbar": {
             "outlinewidth": 0,
             "ticks": ""
            },
            "colorscale": [
             [
              0,
              "#0d0887"
             ],
             [
              0.1111111111111111,
              "#46039f"
             ],
             [
              0.2222222222222222,
              "#7201a8"
             ],
             [
              0.3333333333333333,
              "#9c179e"
             ],
             [
              0.4444444444444444,
              "#bd3786"
             ],
             [
              0.5555555555555556,
              "#d8576b"
             ],
             [
              0.6666666666666666,
              "#ed7953"
             ],
             [
              0.7777777777777778,
              "#fb9f3a"
             ],
             [
              0.8888888888888888,
              "#fdca26"
             ],
             [
              1,
              "#f0f921"
             ]
            ],
            "type": "histogram2dcontour"
           }
          ],
          "mesh3d": [
           {
            "colorbar": {
             "outlinewidth": 0,
             "ticks": ""
            },
            "type": "mesh3d"
           }
          ],
          "parcoords": [
           {
            "line": {
             "colorbar": {
              "outlinewidth": 0,
              "ticks": ""
             }
            },
            "type": "parcoords"
           }
          ],
          "pie": [
           {
            "automargin": true,
            "type": "pie"
           }
          ],
          "scatter": [
           {
            "fillpattern": {
             "fillmode": "overlay",
             "size": 10,
             "solidity": 0.2
            },
            "type": "scatter"
           }
          ],
          "scatter3d": [
           {
            "line": {
             "colorbar": {
              "outlinewidth": 0,
              "ticks": ""
             }
            },
            "marker": {
             "colorbar": {
              "outlinewidth": 0,
              "ticks": ""
             }
            },
            "type": "scatter3d"
           }
          ],
          "scattercarpet": [
           {
            "marker": {
             "colorbar": {
              "outlinewidth": 0,
              "ticks": ""
             }
            },
            "type": "scattercarpet"
           }
          ],
          "scattergeo": [
           {
            "marker": {
             "colorbar": {
              "outlinewidth": 0,
              "ticks": ""
             }
            },
            "type": "scattergeo"
           }
          ],
          "scattergl": [
           {
            "marker": {
             "colorbar": {
              "outlinewidth": 0,
              "ticks": ""
             }
            },
            "type": "scattergl"
           }
          ],
          "scattermapbox": [
           {
            "marker": {
             "colorbar": {
              "outlinewidth": 0,
              "ticks": ""
             }
            },
            "type": "scattermapbox"
           }
          ],
          "scatterpolar": [
           {
            "marker": {
             "colorbar": {
              "outlinewidth": 0,
              "ticks": ""
             }
            },
            "type": "scatterpolar"
           }
          ],
          "scatterpolargl": [
           {
            "marker": {
             "colorbar": {
              "outlinewidth": 0,
              "ticks": ""
             }
            },
            "type": "scatterpolargl"
           }
          ],
          "scatterternary": [
           {
            "marker": {
             "colorbar": {
              "outlinewidth": 0,
              "ticks": ""
             }
            },
            "type": "scatterternary"
           }
          ],
          "surface": [
           {
            "colorbar": {
             "outlinewidth": 0,
             "ticks": ""
            },
            "colorscale": [
             [
              0,
              "#0d0887"
             ],
             [
              0.1111111111111111,
              "#46039f"
             ],
             [
              0.2222222222222222,
              "#7201a8"
             ],
             [
              0.3333333333333333,
              "#9c179e"
             ],
             [
              0.4444444444444444,
              "#bd3786"
             ],
             [
              0.5555555555555556,
              "#d8576b"
             ],
             [
              0.6666666666666666,
              "#ed7953"
             ],
             [
              0.7777777777777778,
              "#fb9f3a"
             ],
             [
              0.8888888888888888,
              "#fdca26"
             ],
             [
              1,
              "#f0f921"
             ]
            ],
            "type": "surface"
           }
          ],
          "table": [
           {
            "cells": {
             "fill": {
              "color": "#EBF0F8"
             },
             "line": {
              "color": "white"
             }
            },
            "header": {
             "fill": {
              "color": "#C8D4E3"
             },
             "line": {
              "color": "white"
             }
            },
            "type": "table"
           }
          ]
         },
         "layout": {
          "annotationdefaults": {
           "arrowcolor": "#2a3f5f",
           "arrowhead": 0,
           "arrowwidth": 1
          },
          "autotypenumbers": "strict",
          "coloraxis": {
           "colorbar": {
            "outlinewidth": 0,
            "ticks": ""
           }
          },
          "colorscale": {
           "diverging": [
            [
             0,
             "#8e0152"
            ],
            [
             0.1,
             "#c51b7d"
            ],
            [
             0.2,
             "#de77ae"
            ],
            [
             0.3,
             "#f1b6da"
            ],
            [
             0.4,
             "#fde0ef"
            ],
            [
             0.5,
             "#f7f7f7"
            ],
            [
             0.6,
             "#e6f5d0"
            ],
            [
             0.7,
             "#b8e186"
            ],
            [
             0.8,
             "#7fbc41"
            ],
            [
             0.9,
             "#4d9221"
            ],
            [
             1,
             "#276419"
            ]
           ],
           "sequential": [
            [
             0,
             "#0d0887"
            ],
            [
             0.1111111111111111,
             "#46039f"
            ],
            [
             0.2222222222222222,
             "#7201a8"
            ],
            [
             0.3333333333333333,
             "#9c179e"
            ],
            [
             0.4444444444444444,
             "#bd3786"
            ],
            [
             0.5555555555555556,
             "#d8576b"
            ],
            [
             0.6666666666666666,
             "#ed7953"
            ],
            [
             0.7777777777777778,
             "#fb9f3a"
            ],
            [
             0.8888888888888888,
             "#fdca26"
            ],
            [
             1,
             "#f0f921"
            ]
           ],
           "sequentialminus": [
            [
             0,
             "#0d0887"
            ],
            [
             0.1111111111111111,
             "#46039f"
            ],
            [
             0.2222222222222222,
             "#7201a8"
            ],
            [
             0.3333333333333333,
             "#9c179e"
            ],
            [
             0.4444444444444444,
             "#bd3786"
            ],
            [
             0.5555555555555556,
             "#d8576b"
            ],
            [
             0.6666666666666666,
             "#ed7953"
            ],
            [
             0.7777777777777778,
             "#fb9f3a"
            ],
            [
             0.8888888888888888,
             "#fdca26"
            ],
            [
             1,
             "#f0f921"
            ]
           ]
          },
          "colorway": [
           "#636efa",
           "#EF553B",
           "#00cc96",
           "#ab63fa",
           "#FFA15A",
           "#19d3f3",
           "#FF6692",
           "#B6E880",
           "#FF97FF",
           "#FECB52"
          ],
          "font": {
           "color": "#2a3f5f"
          },
          "geo": {
           "bgcolor": "white",
           "lakecolor": "white",
           "landcolor": "#E5ECF6",
           "showlakes": true,
           "showland": true,
           "subunitcolor": "white"
          },
          "hoverlabel": {
           "align": "left"
          },
          "hovermode": "closest",
          "mapbox": {
           "style": "light"
          },
          "paper_bgcolor": "white",
          "plot_bgcolor": "#E5ECF6",
          "polar": {
           "angularaxis": {
            "gridcolor": "white",
            "linecolor": "white",
            "ticks": ""
           },
           "bgcolor": "#E5ECF6",
           "radialaxis": {
            "gridcolor": "white",
            "linecolor": "white",
            "ticks": ""
           }
          },
          "scene": {
           "xaxis": {
            "backgroundcolor": "#E5ECF6",
            "gridcolor": "white",
            "gridwidth": 2,
            "linecolor": "white",
            "showbackground": true,
            "ticks": "",
            "zerolinecolor": "white"
           },
           "yaxis": {
            "backgroundcolor": "#E5ECF6",
            "gridcolor": "white",
            "gridwidth": 2,
            "linecolor": "white",
            "showbackground": true,
            "ticks": "",
            "zerolinecolor": "white"
           },
           "zaxis": {
            "backgroundcolor": "#E5ECF6",
            "gridcolor": "white",
            "gridwidth": 2,
            "linecolor": "white",
            "showbackground": true,
            "ticks": "",
            "zerolinecolor": "white"
           }
          },
          "shapedefaults": {
           "line": {
            "color": "#2a3f5f"
           }
          },
          "ternary": {
           "aaxis": {
            "gridcolor": "white",
            "linecolor": "white",
            "ticks": ""
           },
           "baxis": {
            "gridcolor": "white",
            "linecolor": "white",
            "ticks": ""
           },
           "bgcolor": "#E5ECF6",
           "caxis": {
            "gridcolor": "white",
            "linecolor": "white",
            "ticks": ""
           }
          },
          "title": {
           "x": 0.05
          },
          "xaxis": {
           "automargin": true,
           "gridcolor": "white",
           "linecolor": "white",
           "ticks": "",
           "title": {
            "standoff": 15
           },
           "zerolinecolor": "white",
           "zerolinewidth": 2
          },
          "yaxis": {
           "automargin": true,
           "gridcolor": "white",
           "linecolor": "white",
           "ticks": "",
           "title": {
            "standoff": 15
           },
           "zerolinecolor": "white",
           "zerolinewidth": 2
          }
         }
        },
        "title": {
         "text": "Rolling Weekly Mean for Time"
        },
        "xaxis": {
         "anchor": "y",
         "domain": [
          0,
          1
         ],
         "title": {
          "text": "date"
         }
        },
        "yaxis": {
         "anchor": "x",
         "domain": [
          0,
          1
         ],
         "title": {
          "text": "cum_time_fm"
         }
        }
       }
      }
     },
     "metadata": {},
     "output_type": "display_data"
    }
   ],
   "source": [
    "rolling_line_fig_time"
   ]
  },
  {
   "cell_type": "code",
   "execution_count": 23,
   "id": "30cb97dd",
   "metadata": {
    "id": "30cb97dd",
    "outputId": "1a198862-e429-4c00-abec-efe7189c016c"
   },
   "outputs": [
    {
     "name": "stderr",
     "output_type": "stream",
     "text": [
      "/var/folders/64/kktgr_017td3vw1nnvpfz4hw0000gn/T/ipykernel_67772/3575831307.py:4: UserWarning:\n",
      "\n",
      "Dataset has 0 variance; skipping density estimate. Pass `warn_singular=False` to disable this warning.\n",
      "\n",
      "/var/folders/64/kktgr_017td3vw1nnvpfz4hw0000gn/T/ipykernel_67772/3575831307.py:4: UserWarning:\n",
      "\n",
      "Dataset has 0 variance; skipping density estimate. Pass `warn_singular=False` to disable this warning.\n",
      "\n"
     ]
    },
    {
     "data": {
      "image/png": "[encoded data removed]",
      "text/plain": [
       "<Figure size 646x500 with 1 Axes>"
      ]
     },
     "metadata": {},
     "output_type": "display_data"
    }
   ],
   "source": [
    "import seaborn as sns\n",
    "\n",
    "\n",
    "sns.displot(new, x=\"score\", hue=\"name_2\", kind = \"kde\",\n",
    "            linewidth = 2).set(title = \"Distribution of Wordle Score by Person\")\n",
    "plt.savefig('girls_wordle_group.png', dpi=300, bbox_inches='tight')\n"
   ]
  },
  {
   "cell_type": "code",
   "execution_count": 24,
   "id": "2028e5af",
   "metadata": {
    "id": "2028e5af",
    "outputId": "e10b5877-4bb1-49de-f806-67f5921a4303"
   },
   "outputs": [
    {
     "data": {
      "image/png": "[encoded data removed]",
      "text/plain": [
       "<Figure size 900x1200 with 12 Axes>"
      ]
     },
     "metadata": {},
     "output_type": "display_data"
    }
   ],
   "source": [
    "h = sns.FacetGrid(new, col='name_2', hue='name_2', col_wrap = 3)\n",
    "\n",
    "\n",
    "\n",
    "h.map(sns.histplot, \"score\", discrete = True, stat = \"density\")\n",
    "\n",
    "[plt.setp(ax.texts, text=\"\") for ax in h.axes.flat] # remove the original texts\n",
    "                                                    # important to add this before setting titles\n",
    "h.set_titles(col_template = '{col_name}')\n",
    "\n",
    "# Add an overall title and move it above the graphs\n",
    "h.fig.subplots_adjust(top=.9) \n",
    "h.fig.suptitle('Distribution of Wordle Scores By Person\\nScore of 7 = X/6', size = 16)\n",
    "\n",
    "\n",
    "h.set(xticks=[1, 2, 3, 4, 5, 6, 7])\n",
    "h.set_xticklabels([1, 2, 3, 4, 5, 6, 7])\n",
    "plt.savefig('girls_wordle_indiv.png', dpi=300)"
   ]
  },
  {
   "cell_type": "code",
   "execution_count": 25,
   "id": "cdf16324",
   "metadata": {
    "id": "cdf16324",
    "outputId": "fcd3f45c-b307-4d53-f55b-186ca4670786"
   },
   "outputs": [
    {
     "data": {
      "text/html": [
       "<div>\n",
       "<style scoped>\n",
       "    .dataframe tbody tr th:only-of-type {\n",
       "        vertical-align: middle;\n",
       "    }\n",
       "\n",
       "    .dataframe tbody tr th {\n",
       "        vertical-align: top;\n",
       "    }\n",
       "\n",
       "    .dataframe thead th {\n",
       "        text-align: right;\n",
       "    }\n",
       "</style>\n",
       "<table border=\"1\" class=\"dataframe\">\n",
       "  <thead>\n",
       "    <tr style=\"text-align: right;\">\n",
       "      <th></th>\n",
       "      <th>name_2</th>\n",
       "      <th>count</th>\n",
       "      <th>mean</th>\n",
       "      <th>std</th>\n",
       "      <th>min</th>\n",
       "      <th>25%</th>\n",
       "      <th>50%</th>\n",
       "      <th>75%</th>\n",
       "      <th>max</th>\n",
       "    </tr>\n",
       "  </thead>\n",
       "  <tbody>\n",
       "    <tr>\n",
       "      <th>0</th>\n",
       "      <td>Joey</td>\n",
       "      <td>6.0</td>\n",
       "      <td>20.711111</td>\n",
       "      <td>0.817290</td>\n",
       "      <td>19.050000</td>\n",
       "      <td>20.954167</td>\n",
       "      <td>21.025000</td>\n",
       "      <td>21.058333</td>\n",
       "      <td>21.166667</td>\n",
       "    </tr>\n",
       "    <tr>\n",
       "      <th>1</th>\n",
       "      <td>Jenna</td>\n",
       "      <td>13.0</td>\n",
       "      <td>14.669231</td>\n",
       "      <td>6.530001</td>\n",
       "      <td>5.850000</td>\n",
       "      <td>9.583333</td>\n",
       "      <td>13.766667</td>\n",
       "      <td>21.716667</td>\n",
       "      <td>22.966667</td>\n",
       "    </tr>\n",
       "    <tr>\n",
       "      <th>2</th>\n",
       "      <td>Santi</td>\n",
       "      <td>2.0</td>\n",
       "      <td>11.625000</td>\n",
       "      <td>16.157390</td>\n",
       "      <td>0.200000</td>\n",
       "      <td>5.912500</td>\n",
       "      <td>11.625000</td>\n",
       "      <td>17.337500</td>\n",
       "      <td>23.050000</td>\n",
       "    </tr>\n",
       "    <tr>\n",
       "      <th>3</th>\n",
       "      <td>Isabel</td>\n",
       "      <td>7.0</td>\n",
       "      <td>10.869048</td>\n",
       "      <td>10.994996</td>\n",
       "      <td>0.050000</td>\n",
       "      <td>0.608333</td>\n",
       "      <td>8.033333</td>\n",
       "      <td>22.025000</td>\n",
       "      <td>22.733333</td>\n",
       "    </tr>\n",
       "    <tr>\n",
       "      <th>4</th>\n",
       "      <td>Will</td>\n",
       "      <td>35.0</td>\n",
       "      <td>9.735714</td>\n",
       "      <td>4.755671</td>\n",
       "      <td>0.033333</td>\n",
       "      <td>7.333333</td>\n",
       "      <td>8.316667</td>\n",
       "      <td>10.766667</td>\n",
       "      <td>23.900000</td>\n",
       "    </tr>\n",
       "    <tr>\n",
       "      <th>5</th>\n",
       "      <td>Ben</td>\n",
       "      <td>23.0</td>\n",
       "      <td>8.284058</td>\n",
       "      <td>6.550402</td>\n",
       "      <td>0.083333</td>\n",
       "      <td>4.841667</td>\n",
       "      <td>7.950000</td>\n",
       "      <td>9.450000</td>\n",
       "      <td>22.700000</td>\n",
       "    </tr>\n",
       "    <tr>\n",
       "      <th>6</th>\n",
       "      <td>Nick</td>\n",
       "      <td>5.0</td>\n",
       "      <td>7.926667</td>\n",
       "      <td>3.831170</td>\n",
       "      <td>1.366667</td>\n",
       "      <td>8.133333</td>\n",
       "      <td>9.433333</td>\n",
       "      <td>9.450000</td>\n",
       "      <td>11.250000</td>\n",
       "    </tr>\n",
       "    <tr>\n",
       "      <th>7</th>\n",
       "      <td>Hari</td>\n",
       "      <td>2.0</td>\n",
       "      <td>4.475000</td>\n",
       "      <td>6.140044</td>\n",
       "      <td>0.133333</td>\n",
       "      <td>2.304167</td>\n",
       "      <td>4.475000</td>\n",
       "      <td>6.645833</td>\n",
       "      <td>8.816667</td>\n",
       "    </tr>\n",
       "    <tr>\n",
       "      <th>8</th>\n",
       "      <td>Varun</td>\n",
       "      <td>41.0</td>\n",
       "      <td>1.976016</td>\n",
       "      <td>4.676687</td>\n",
       "      <td>0.000000</td>\n",
       "      <td>0.033333</td>\n",
       "      <td>0.083333</td>\n",
       "      <td>0.500000</td>\n",
       "      <td>22.050000</td>\n",
       "    </tr>\n",
       "    <tr>\n",
       "      <th>9</th>\n",
       "      <td>Daria</td>\n",
       "      <td>2.0</td>\n",
       "      <td>0.683333</td>\n",
       "      <td>0.235702</td>\n",
       "      <td>0.516667</td>\n",
       "      <td>0.600000</td>\n",
       "      <td>0.683333</td>\n",
       "      <td>0.766667</td>\n",
       "      <td>0.850000</td>\n",
       "    </tr>\n",
       "    <tr>\n",
       "      <th>10</th>\n",
       "      <td>Macy</td>\n",
       "      <td>1.0</td>\n",
       "      <td>0.616667</td>\n",
       "      <td>NaN</td>\n",
       "      <td>0.616667</td>\n",
       "      <td>0.616667</td>\n",
       "      <td>0.616667</td>\n",
       "      <td>0.616667</td>\n",
       "      <td>0.616667</td>\n",
       "    </tr>\n",
       "    <tr>\n",
       "      <th>11</th>\n",
       "      <td>Armaan</td>\n",
       "      <td>2.0</td>\n",
       "      <td>0.175000</td>\n",
       "      <td>0.082496</td>\n",
       "      <td>0.116667</td>\n",
       "      <td>0.145833</td>\n",
       "      <td>0.175000</td>\n",
       "      <td>0.204167</td>\n",
       "      <td>0.233333</td>\n",
       "    </tr>\n",
       "  </tbody>\n",
       "</table>\n",
       "</div>"
      ],
      "text/plain": [
       "    name_2  count       mean        std        min        25%        50%  \\\n",
       "0     Joey    6.0  20.711111   0.817290  19.050000  20.954167  21.025000   \n",
       "1    Jenna   13.0  14.669231   6.530001   5.850000   9.583333  13.766667   \n",
       "2    Santi    2.0  11.625000  16.157390   0.200000   5.912500  11.625000   \n",
       "3   Isabel    7.0  10.869048  10.994996   0.050000   0.608333   8.033333   \n",
       "4     Will   35.0   9.735714   4.755671   0.033333   7.333333   8.316667   \n",
       "5      Ben   23.0   8.284058   6.550402   0.083333   4.841667   7.950000   \n",
       "6     Nick    5.0   7.926667   3.831170   1.366667   8.133333   9.433333   \n",
       "7     Hari    2.0   4.475000   6.140044   0.133333   2.304167   4.475000   \n",
       "8    Varun   41.0   1.976016   4.676687   0.000000   0.033333   0.083333   \n",
       "9    Daria    2.0   0.683333   0.235702   0.516667   0.600000   0.683333   \n",
       "10    Macy    1.0   0.616667        NaN   0.616667   0.616667   0.616667   \n",
       "11  Armaan    2.0   0.175000   0.082496   0.116667   0.145833   0.175000   \n",
       "\n",
       "          75%        max  \n",
       "0   21.058333  21.166667  \n",
       "1   21.716667  22.966667  \n",
       "2   17.337500  23.050000  \n",
       "3   22.025000  22.733333  \n",
       "4   10.766667  23.900000  \n",
       "5    9.450000  22.700000  \n",
       "6    9.450000  11.250000  \n",
       "7    6.645833   8.816667  \n",
       "8    0.500000  22.050000  \n",
       "9    0.766667   0.850000  \n",
       "10   0.616667   0.616667  \n",
       "11   0.204167   0.233333  "
      ]
     },
     "execution_count": 25,
     "metadata": {},
     "output_type": "execute_result"
    }
   ],
   "source": [
    "new.groupby(\"name_2\")['time_from_mid'].describe().sort_values('mean', ascending=False).reset_index()"
   ]
  },
  {
   "cell_type": "code",
   "execution_count": 79,
   "id": "23bc92b0",
   "metadata": {
    "id": "23bc92b0",
    "outputId": "fed22789-91ab-477f-9c38-5443fb087c6b",
    "scrolled": true
   },
   "outputs": [
    {
     "data": {
      "text/html": [
       "<div>\n",
       "<style scoped>\n",
       "    .dataframe tbody tr th:only-of-type {\n",
       "        vertical-align: middle;\n",
       "    }\n",
       "\n",
       "    .dataframe tbody tr th {\n",
       "        vertical-align: top;\n",
       "    }\n",
       "\n",
       "    .dataframe thead th {\n",
       "        text-align: right;\n",
       "    }\n",
       "</style>\n",
       "<table border=\"1\" class=\"dataframe\">\n",
       "  <thead>\n",
       "    <tr style=\"text-align: right;\">\n",
       "      <th></th>\n",
       "      <th>name_2</th>\n",
       "      <th>count</th>\n",
       "      <th>mean</th>\n",
       "      <th>std</th>\n",
       "      <th>min</th>\n",
       "      <th>25%</th>\n",
       "      <th>50%</th>\n",
       "      <th>75%</th>\n",
       "      <th>max</th>\n",
       "    </tr>\n",
       "  </thead>\n",
       "  <tbody>\n",
       "    <tr>\n",
       "      <th>0</th>\n",
       "      <td>Ben</td>\n",
       "      <td>234.0</td>\n",
       "      <td>3.769231</td>\n",
       "      <td>1.071557</td>\n",
       "      <td>1.0</td>\n",
       "      <td>3.0</td>\n",
       "      <td>4.0</td>\n",
       "      <td>4.00</td>\n",
       "      <td>7.0</td>\n",
       "    </tr>\n",
       "    <tr>\n",
       "      <th>1</th>\n",
       "      <td>Will</td>\n",
       "      <td>287.0</td>\n",
       "      <td>3.972125</td>\n",
       "      <td>1.037373</td>\n",
       "      <td>2.0</td>\n",
       "      <td>3.0</td>\n",
       "      <td>4.0</td>\n",
       "      <td>5.00</td>\n",
       "      <td>7.0</td>\n",
       "    </tr>\n",
       "    <tr>\n",
       "      <th>2</th>\n",
       "      <td>Macy</td>\n",
       "      <td>120.0</td>\n",
       "      <td>3.983333</td>\n",
       "      <td>1.020655</td>\n",
       "      <td>2.0</td>\n",
       "      <td>3.0</td>\n",
       "      <td>4.0</td>\n",
       "      <td>5.00</td>\n",
       "      <td>6.0</td>\n",
       "    </tr>\n",
       "    <tr>\n",
       "      <th>3</th>\n",
       "      <td>Jenna</td>\n",
       "      <td>168.0</td>\n",
       "      <td>4.041667</td>\n",
       "      <td>0.974859</td>\n",
       "      <td>2.0</td>\n",
       "      <td>3.0</td>\n",
       "      <td>4.0</td>\n",
       "      <td>5.00</td>\n",
       "      <td>6.0</td>\n",
       "    </tr>\n",
       "    <tr>\n",
       "      <th>4</th>\n",
       "      <td>Varun</td>\n",
       "      <td>297.0</td>\n",
       "      <td>4.043771</td>\n",
       "      <td>1.004098</td>\n",
       "      <td>2.0</td>\n",
       "      <td>3.0</td>\n",
       "      <td>4.0</td>\n",
       "      <td>5.00</td>\n",
       "      <td>7.0</td>\n",
       "    </tr>\n",
       "    <tr>\n",
       "      <th>5</th>\n",
       "      <td>Daria</td>\n",
       "      <td>122.0</td>\n",
       "      <td>4.049180</td>\n",
       "      <td>0.934663</td>\n",
       "      <td>2.0</td>\n",
       "      <td>3.0</td>\n",
       "      <td>4.0</td>\n",
       "      <td>5.00</td>\n",
       "      <td>6.0</td>\n",
       "    </tr>\n",
       "    <tr>\n",
       "      <th>6</th>\n",
       "      <td>Nick</td>\n",
       "      <td>125.0</td>\n",
       "      <td>4.072000</td>\n",
       "      <td>1.086397</td>\n",
       "      <td>2.0</td>\n",
       "      <td>3.0</td>\n",
       "      <td>4.0</td>\n",
       "      <td>5.00</td>\n",
       "      <td>6.0</td>\n",
       "    </tr>\n",
       "    <tr>\n",
       "      <th>7</th>\n",
       "      <td>Isabel</td>\n",
       "      <td>136.0</td>\n",
       "      <td>4.161765</td>\n",
       "      <td>0.952351</td>\n",
       "      <td>2.0</td>\n",
       "      <td>4.0</td>\n",
       "      <td>4.0</td>\n",
       "      <td>5.00</td>\n",
       "      <td>7.0</td>\n",
       "    </tr>\n",
       "    <tr>\n",
       "      <th>8</th>\n",
       "      <td>Santi</td>\n",
       "      <td>6.0</td>\n",
       "      <td>4.333333</td>\n",
       "      <td>1.032796</td>\n",
       "      <td>3.0</td>\n",
       "      <td>4.0</td>\n",
       "      <td>4.0</td>\n",
       "      <td>4.75</td>\n",
       "      <td>6.0</td>\n",
       "    </tr>\n",
       "    <tr>\n",
       "      <th>9</th>\n",
       "      <td>Hari</td>\n",
       "      <td>102.0</td>\n",
       "      <td>4.401961</td>\n",
       "      <td>1.204446</td>\n",
       "      <td>2.0</td>\n",
       "      <td>4.0</td>\n",
       "      <td>4.0</td>\n",
       "      <td>5.00</td>\n",
       "      <td>7.0</td>\n",
       "    </tr>\n",
       "    <tr>\n",
       "      <th>10</th>\n",
       "      <td>Armaan</td>\n",
       "      <td>121.0</td>\n",
       "      <td>4.537190</td>\n",
       "      <td>1.265183</td>\n",
       "      <td>2.0</td>\n",
       "      <td>4.0</td>\n",
       "      <td>4.0</td>\n",
       "      <td>5.00</td>\n",
       "      <td>7.0</td>\n",
       "    </tr>\n",
       "    <tr>\n",
       "      <th>11</th>\n",
       "      <td>Joey</td>\n",
       "      <td>124.0</td>\n",
       "      <td>4.572581</td>\n",
       "      <td>1.257002</td>\n",
       "      <td>2.0</td>\n",
       "      <td>4.0</td>\n",
       "      <td>5.0</td>\n",
       "      <td>6.00</td>\n",
       "      <td>7.0</td>\n",
       "    </tr>\n",
       "  </tbody>\n",
       "</table>\n",
       "</div>"
      ],
      "text/plain": [
       "    name_2  count      mean       std  min  25%  50%   75%  max\n",
       "0      Ben  234.0  3.769231  1.071557  1.0  3.0  4.0  4.00  7.0\n",
       "1     Will  287.0  3.972125  1.037373  2.0  3.0  4.0  5.00  7.0\n",
       "2     Macy  120.0  3.983333  1.020655  2.0  3.0  4.0  5.00  6.0\n",
       "3    Jenna  168.0  4.041667  0.974859  2.0  3.0  4.0  5.00  6.0\n",
       "4    Varun  297.0  4.043771  1.004098  2.0  3.0  4.0  5.00  7.0\n",
       "5    Daria  122.0  4.049180  0.934663  2.0  3.0  4.0  5.00  6.0\n",
       "6     Nick  125.0  4.072000  1.086397  2.0  3.0  4.0  5.00  6.0\n",
       "7   Isabel  136.0  4.161765  0.952351  2.0  4.0  4.0  5.00  7.0\n",
       "8    Santi    6.0  4.333333  1.032796  3.0  4.0  4.0  4.75  6.0\n",
       "9     Hari  102.0  4.401961  1.204446  2.0  4.0  4.0  5.00  7.0\n",
       "10  Armaan  121.0  4.537190  1.265183  2.0  4.0  4.0  5.00  7.0\n",
       "11    Joey  124.0  4.572581  1.257002  2.0  4.0  5.0  6.00  7.0"
      ]
     },
     "execution_count": 79,
     "metadata": {},
     "output_type": "execute_result"
    }
   ],
   "source": [
    "new.groupby(\"name_2\")['score'].describe().sort_values('mean', ascending=True).reset_index()"
   ]
  },
  {
   "cell_type": "code",
   "execution_count": 26,
   "id": "b89e99b6",
   "metadata": {},
   "outputs": [
    {
     "data": {
      "text/plain": [
       "              name_2\n",
       "Wins          Armaan     1\n",
       "              Ben       12\n",
       "              Daria      1\n",
       "              Hari       0\n",
       "              Isabel     2\n",
       "              Jenna      7\n",
       "              Joey       3\n",
       "              Macy       0\n",
       "              Nick       2\n",
       "              Santi      1\n",
       "              Varun     28\n",
       "              Will      17\n",
       "Games_Played  Armaan     2\n",
       "              Ben       23\n",
       "              Daria      2\n",
       "              Hari       2\n",
       "              Isabel     7\n",
       "              Jenna     13\n",
       "              Joey       6\n",
       "              Macy       1\n",
       "              Nick       5\n",
       "              Santi      2\n",
       "              Varun     41\n",
       "              Will      35\n",
       "dtype: int64"
      ]
     },
     "execution_count": 26,
     "metadata": {},
     "output_type": "execute_result"
    }
   ],
   "source": [
    "pd.DataFrame(new.groupby('name_2').agg(Wins = ('winner_dummy', 'sum'), Games_Played = ('winner_dummy', 'count'))).unstack()"
   ]
  },
  {
   "cell_type": "code",
   "execution_count": 115,
   "id": "51bb5c91",
   "metadata": {
    "scrolled": false
   },
   "outputs": [
    {
     "ename": "AttributeError",
     "evalue": "'Series' object has no attribute 'Wins'",
     "output_type": "error",
     "traceback": [
      "\u001b[0;31m---------------------------------------------------------------------------\u001b[0m",
      "\u001b[0;31mAttributeError\u001b[0m                            Traceback (most recent call last)",
      "\u001b[0;32m/var/folders/64/kktgr_017td3vw1nnvpfz4hw0000gn/T/ipykernel_1796/1634241011.py\u001b[0m in \u001b[0;36m<module>\u001b[0;34m\u001b[0m\n\u001b[0;32m----> 1\u001b[0;31m \u001b[0mnew\u001b[0m\u001b[0;34m.\u001b[0m\u001b[0mgroupby\u001b[0m\u001b[0;34m(\u001b[0m\u001b[0;34m'name_2'\u001b[0m\u001b[0;34m)\u001b[0m\u001b[0;34m.\u001b[0m\u001b[0magg\u001b[0m\u001b[0;34m(\u001b[0m\u001b[0mWins\u001b[0m \u001b[0;34m=\u001b[0m \u001b[0;34m(\u001b[0m\u001b[0;34m'winner_dummy'\u001b[0m\u001b[0;34m,\u001b[0m \u001b[0;34m'sum'\u001b[0m\u001b[0;34m)\u001b[0m\u001b[0;34m,\u001b[0m \u001b[0mGames_Played\u001b[0m \u001b[0;34m=\u001b[0m \u001b[0;34m(\u001b[0m\u001b[0;34m'winner_dummy'\u001b[0m\u001b[0;34m,\u001b[0m \u001b[0;34m'count'\u001b[0m\u001b[0;34m)\u001b[0m\u001b[0;34m)\u001b[0m\u001b[0;34m.\u001b[0m\u001b[0mapply\u001b[0m\u001b[0;34m(\u001b[0m\u001b[0;32mlambda\u001b[0m \u001b[0mx\u001b[0m\u001b[0;34m:\u001b[0m \u001b[0mx\u001b[0m\u001b[0;34m.\u001b[0m\u001b[0mWins\u001b[0m\u001b[0;34m/\u001b[0m\u001b[0mx\u001b[0m\u001b[0;34m.\u001b[0m\u001b[0mGames_Played\u001b[0m\u001b[0;34m)\u001b[0m\u001b[0;34m\u001b[0m\u001b[0;34m\u001b[0m\u001b[0m\n\u001b[0m",
      "\u001b[0;32m~/opt/anaconda3/lib/python3.9/site-packages/pandas/core/frame.py\u001b[0m in \u001b[0;36mapply\u001b[0;34m(self, func, axis, raw, result_type, args, **kwargs)\u001b[0m\n\u001b[1;32m   8846\u001b[0m             \u001b[0mkwargs\u001b[0m\u001b[0;34m=\u001b[0m\u001b[0mkwargs\u001b[0m\u001b[0;34m,\u001b[0m\u001b[0;34m\u001b[0m\u001b[0;34m\u001b[0m\u001b[0m\n\u001b[1;32m   8847\u001b[0m         )\n\u001b[0;32m-> 8848\u001b[0;31m         \u001b[0;32mreturn\u001b[0m \u001b[0mop\u001b[0m\u001b[0;34m.\u001b[0m\u001b[0mapply\u001b[0m\u001b[0;34m(\u001b[0m\u001b[0;34m)\u001b[0m\u001b[0;34m.\u001b[0m\u001b[0m__finalize__\u001b[0m\u001b[0;34m(\u001b[0m\u001b[0mself\u001b[0m\u001b[0;34m,\u001b[0m \u001b[0mmethod\u001b[0m\u001b[0;34m=\u001b[0m\u001b[0;34m\"apply\"\u001b[0m\u001b[0;34m)\u001b[0m\u001b[0;34m\u001b[0m\u001b[0;34m\u001b[0m\u001b[0m\n\u001b[0m\u001b[1;32m   8849\u001b[0m \u001b[0;34m\u001b[0m\u001b[0m\n\u001b[1;32m   8850\u001b[0m     def applymap(\n",
      "\u001b[0;32m~/opt/anaconda3/lib/python3.9/site-packages/pandas/core/apply.py\u001b[0m in \u001b[0;36mapply\u001b[0;34m(self)\u001b[0m\n\u001b[1;32m    731\u001b[0m             \u001b[0;32mreturn\u001b[0m \u001b[0mself\u001b[0m\u001b[0;34m.\u001b[0m\u001b[0mapply_raw\u001b[0m\u001b[0;34m(\u001b[0m\u001b[0;34m)\u001b[0m\u001b[0;34m\u001b[0m\u001b[0;34m\u001b[0m\u001b[0m\n\u001b[1;32m    732\u001b[0m \u001b[0;34m\u001b[0m\u001b[0m\n\u001b[0;32m--> 733\u001b[0;31m         \u001b[0;32mreturn\u001b[0m \u001b[0mself\u001b[0m\u001b[0;34m.\u001b[0m\u001b[0mapply_standard\u001b[0m\u001b[0;34m(\u001b[0m\u001b[0;34m)\u001b[0m\u001b[0;34m\u001b[0m\u001b[0;34m\u001b[0m\u001b[0m\n\u001b[0m\u001b[1;32m    734\u001b[0m \u001b[0;34m\u001b[0m\u001b[0m\n\u001b[1;32m    735\u001b[0m     \u001b[0;32mdef\u001b[0m \u001b[0magg\u001b[0m\u001b[0;34m(\u001b[0m\u001b[0mself\u001b[0m\u001b[0;34m)\u001b[0m\u001b[0;34m:\u001b[0m\u001b[0;34m\u001b[0m\u001b[0;34m\u001b[0m\u001b[0m\n",
      "\u001b[0;32m~/opt/anaconda3/lib/python3.9/site-packages/pandas/core/apply.py\u001b[0m in \u001b[0;36mapply_standard\u001b[0;34m(self)\u001b[0m\n\u001b[1;32m    855\u001b[0m \u001b[0;34m\u001b[0m\u001b[0m\n\u001b[1;32m    856\u001b[0m     \u001b[0;32mdef\u001b[0m \u001b[0mapply_standard\u001b[0m\u001b[0;34m(\u001b[0m\u001b[0mself\u001b[0m\u001b[0;34m)\u001b[0m\u001b[0;34m:\u001b[0m\u001b[0;34m\u001b[0m\u001b[0;34m\u001b[0m\u001b[0m\n\u001b[0;32m--> 857\u001b[0;31m         \u001b[0mresults\u001b[0m\u001b[0;34m,\u001b[0m \u001b[0mres_index\u001b[0m \u001b[0;34m=\u001b[0m \u001b[0mself\u001b[0m\u001b[0;34m.\u001b[0m\u001b[0mapply_series_generator\u001b[0m\u001b[0;34m(\u001b[0m\u001b[0;34m)\u001b[0m\u001b[0;34m\u001b[0m\u001b[0;34m\u001b[0m\u001b[0m\n\u001b[0m\u001b[1;32m    858\u001b[0m \u001b[0;34m\u001b[0m\u001b[0m\n\u001b[1;32m    859\u001b[0m         \u001b[0;31m# wrap results\u001b[0m\u001b[0;34m\u001b[0m\u001b[0;34m\u001b[0m\u001b[0m\n",
      "\u001b[0;32m~/opt/anaconda3/lib/python3.9/site-packages/pandas/core/apply.py\u001b[0m in \u001b[0;36mapply_series_generator\u001b[0;34m(self)\u001b[0m\n\u001b[1;32m    871\u001b[0m             \u001b[0;32mfor\u001b[0m \u001b[0mi\u001b[0m\u001b[0;34m,\u001b[0m \u001b[0mv\u001b[0m \u001b[0;32min\u001b[0m \u001b[0menumerate\u001b[0m\u001b[0;34m(\u001b[0m\u001b[0mseries_gen\u001b[0m\u001b[0;34m)\u001b[0m\u001b[0;34m:\u001b[0m\u001b[0;34m\u001b[0m\u001b[0;34m\u001b[0m\u001b[0m\n\u001b[1;32m    872\u001b[0m                 \u001b[0;31m# ignore SettingWithCopy here in case the user mutates\u001b[0m\u001b[0;34m\u001b[0m\u001b[0;34m\u001b[0m\u001b[0m\n\u001b[0;32m--> 873\u001b[0;31m                 \u001b[0mresults\u001b[0m\u001b[0;34m[\u001b[0m\u001b[0mi\u001b[0m\u001b[0;34m]\u001b[0m \u001b[0;34m=\u001b[0m \u001b[0mself\u001b[0m\u001b[0;34m.\u001b[0m\u001b[0mf\u001b[0m\u001b[0;34m(\u001b[0m\u001b[0mv\u001b[0m\u001b[0;34m)\u001b[0m\u001b[0;34m\u001b[0m\u001b[0;34m\u001b[0m\u001b[0m\n\u001b[0m\u001b[1;32m    874\u001b[0m                 \u001b[0;32mif\u001b[0m \u001b[0misinstance\u001b[0m\u001b[0;34m(\u001b[0m\u001b[0mresults\u001b[0m\u001b[0;34m[\u001b[0m\u001b[0mi\u001b[0m\u001b[0;34m]\u001b[0m\u001b[0;34m,\u001b[0m \u001b[0mABCSeries\u001b[0m\u001b[0;34m)\u001b[0m\u001b[0;34m:\u001b[0m\u001b[0;34m\u001b[0m\u001b[0;34m\u001b[0m\u001b[0m\n\u001b[1;32m    875\u001b[0m                     \u001b[0;31m# If we have a view on v, we need to make a copy because\u001b[0m\u001b[0;34m\u001b[0m\u001b[0;34m\u001b[0m\u001b[0m\n",
      "\u001b[0;32m/var/folders/64/kktgr_017td3vw1nnvpfz4hw0000gn/T/ipykernel_1796/1634241011.py\u001b[0m in \u001b[0;36m<lambda>\u001b[0;34m(x)\u001b[0m\n\u001b[0;32m----> 1\u001b[0;31m \u001b[0mnew\u001b[0m\u001b[0;34m.\u001b[0m\u001b[0mgroupby\u001b[0m\u001b[0;34m(\u001b[0m\u001b[0;34m'name_2'\u001b[0m\u001b[0;34m)\u001b[0m\u001b[0;34m.\u001b[0m\u001b[0magg\u001b[0m\u001b[0;34m(\u001b[0m\u001b[0mWins\u001b[0m \u001b[0;34m=\u001b[0m \u001b[0;34m(\u001b[0m\u001b[0;34m'winner_dummy'\u001b[0m\u001b[0;34m,\u001b[0m \u001b[0;34m'sum'\u001b[0m\u001b[0;34m)\u001b[0m\u001b[0;34m,\u001b[0m \u001b[0mGames_Played\u001b[0m \u001b[0;34m=\u001b[0m \u001b[0;34m(\u001b[0m\u001b[0;34m'winner_dummy'\u001b[0m\u001b[0;34m,\u001b[0m \u001b[0;34m'count'\u001b[0m\u001b[0;34m)\u001b[0m\u001b[0;34m)\u001b[0m\u001b[0;34m.\u001b[0m\u001b[0mapply\u001b[0m\u001b[0;34m(\u001b[0m\u001b[0;32mlambda\u001b[0m \u001b[0mx\u001b[0m\u001b[0;34m:\u001b[0m \u001b[0mx\u001b[0m\u001b[0;34m.\u001b[0m\u001b[0mWins\u001b[0m\u001b[0;34m/\u001b[0m\u001b[0mx\u001b[0m\u001b[0;34m.\u001b[0m\u001b[0mGames_Played\u001b[0m\u001b[0;34m)\u001b[0m\u001b[0;34m\u001b[0m\u001b[0;34m\u001b[0m\u001b[0m\n\u001b[0m",
      "\u001b[0;32m~/opt/anaconda3/lib/python3.9/site-packages/pandas/core/generic.py\u001b[0m in \u001b[0;36m__getattr__\u001b[0;34m(self, name)\u001b[0m\n\u001b[1;32m   5573\u001b[0m         ):\n\u001b[1;32m   5574\u001b[0m             \u001b[0;32mreturn\u001b[0m \u001b[0mself\u001b[0m\u001b[0;34m[\u001b[0m\u001b[0mname\u001b[0m\u001b[0;34m]\u001b[0m\u001b[0;34m\u001b[0m\u001b[0;34m\u001b[0m\u001b[0m\n\u001b[0;32m-> 5575\u001b[0;31m         \u001b[0;32mreturn\u001b[0m \u001b[0mobject\u001b[0m\u001b[0;34m.\u001b[0m\u001b[0m__getattribute__\u001b[0m\u001b[0;34m(\u001b[0m\u001b[0mself\u001b[0m\u001b[0;34m,\u001b[0m \u001b[0mname\u001b[0m\u001b[0;34m)\u001b[0m\u001b[0;34m\u001b[0m\u001b[0;34m\u001b[0m\u001b[0m\n\u001b[0m\u001b[1;32m   5576\u001b[0m \u001b[0;34m\u001b[0m\u001b[0m\n\u001b[1;32m   5577\u001b[0m     \u001b[0;32mdef\u001b[0m \u001b[0m__setattr__\u001b[0m\u001b[0;34m(\u001b[0m\u001b[0mself\u001b[0m\u001b[0;34m,\u001b[0m \u001b[0mname\u001b[0m\u001b[0;34m:\u001b[0m \u001b[0mstr\u001b[0m\u001b[0;34m,\u001b[0m \u001b[0mvalue\u001b[0m\u001b[0;34m)\u001b[0m \u001b[0;34m->\u001b[0m \u001b[0;32mNone\u001b[0m\u001b[0;34m:\u001b[0m\u001b[0;34m\u001b[0m\u001b[0;34m\u001b[0m\u001b[0m\n",
      "\u001b[0;31mAttributeError\u001b[0m: 'Series' object has no attribute 'Wins'"
     ]
    }
   ],
   "source": [
    "new.groupby('name_2').agg(Wins = ('winner_dummy', 'sum'), Games_Played = ('winner_dummy', 'count')).apply(lambda x: x.Wins/x.Games_Played)"
   ]
  },
  {
   "cell_type": "code",
   "execution_count": null,
   "id": "1360c96e",
   "metadata": {
    "id": "1360c96e",
    "outputId": "d5199c4c-200a-4dc9-8e9d-a443a86f4bdf"
   },
   "outputs": [
    {
     "name": "stderr",
     "output_type": "stream",
     "text": [
      "/Users/williamfoote/opt/anaconda3/lib/python3.9/site-packages/seaborn/_decorators.py:36: FutureWarning: Pass the following variables as keyword args: x, y. From version 0.12, the only valid positional argument will be `data`, and passing other arguments without an explicit keyword will result in an error or misinterpretation.\n",
      "  warnings.warn(\n"
     ]
    },
    {
     "data": {
      "image/png": "[encoded data removed]",
      "text/plain": [
       "<Figure size 432x288 with 1 Axes>"
      ]
     },
     "metadata": {
      "needs_background": "light"
     },
     "output_type": "display_data"
    }
   ],
   "source": [
    "ttm_agged = girls_wordle.groupby(\"phone_number\")['TimeTilMidnight'].mean().sort_values(ascending = False)\n",
    "sns.barplot(ttm_agged.index, ttm_agged.values).set(\n",
    "    title='Average Time Left in Day\\nWhen Ppl Send Their Wordle\\n(Higher Bar = Faster Fingers)',\n",
    "    xlabel='Person of Interest', ylabel=\"Hours 'Til Midnight\", ylim = (0, 25))\n",
    "line1, = plt.plot([-1, 12], [24, 24], '--', linewidth=2, color='red')\n",
    "plt.xticks(rotation = 45)\n",
    "plt.yticks(np.arange(28, step = 4))\n",
    "plt.savefig('girls_wordle_speed_high.png', dpi=300, bbox_inches='tight')"
   ]
  },
  {
   "cell_type": "code",
   "execution_count": null,
   "id": "cf78c083",
   "metadata": {
    "id": "cf78c083",
    "outputId": "93db9b16-c847-42e2-ddd3-47e965e3f594",
    "scrolled": true
   },
   "outputs": [
    {
     "name": "stderr",
     "output_type": "stream",
     "text": [
      "/Users/williamfoote/opt/anaconda3/lib/python3.9/site-packages/seaborn/_decorators.py:36: FutureWarning: Pass the following variables as keyword args: x, y. From version 0.12, the only valid positional argument will be `data`, and passing other arguments without an explicit keyword will result in an error or misinterpretation.\n",
      "  warnings.warn(\n"
     ]
    },
    {
     "data": {
      "image/png": "[encoded data removed]",
      "text/plain": [
       "<Figure size 432x288 with 1 Axes>"
      ]
     },
     "metadata": {
      "needs_background": "light"
     },
     "output_type": "display_data"
    }
   ],
   "source": [
    "hrmin_agged = girls_wordle.groupby(\"phone_number\")['HourMin'].mean().sort_values(ascending = True)\n",
    "sns.barplot(ttm_agged.index, hrmin_agged.values).set(\n",
    "    title='Average Time To Complete Wordle\\nLower Bar = Faster Fingers',\n",
    "    xlabel='Ppl', ylabel='Hours from Midnight')\n",
    "plt.savefig('girls_wordle_speed.png', dpi=300)"
   ]
  },
  {
   "cell_type": "code",
   "execution_count": null,
   "id": "5812696c",
   "metadata": {
    "id": "5812696c",
    "outputId": "0c8467b6-e424-40e0-d263-ea0c21782d0f"
   },
   "outputs": [
    {
     "name": "stderr",
     "output_type": "stream",
     "text": [
      "/Users/williamfoote/opt/anaconda3/lib/python3.9/site-packages/seaborn/_decorators.py:36: FutureWarning: Pass the following variables as keyword args: x, y. From version 0.12, the only valid positional argument will be `data`, and passing other arguments without an explicit keyword will result in an error or misinterpretation.\n",
      "  warnings.warn(\n"
     ]
    },
    {
     "data": {
      "image/png": "[encoded data removed]",
      "text/plain": [
       "<Figure size 432x288 with 1 Axes>"
      ]
     },
     "metadata": {
      "needs_background": "light"
     },
     "output_type": "display_data"
    }
   ],
   "source": [
    "sns.scatterplot(girls_wordle.loc[girls_wordle.phone_number == 'Isabel', 'timestamp'],\n",
    "                girls_wordle.loc[girls_wordle.phone_number == 'Isabel', 'HourMin'],\n",
    "                data = girls_wordle).set(\n",
    "                    title='Time over Time',\n",
    "                    xlabel='Date', ylabel='Hours from Midnight')\n",
    "\n",
    "plt.savefig('girls_wordle_isabelspeed.png', dpi=300, bbox_inches='tight')\n"
   ]
  },
  {
   "cell_type": "code",
   "execution_count": null,
   "id": "eb3f9be9",
   "metadata": {
    "id": "eb3f9be9",
    "outputId": "cd9116c8-1af2-483e-faf4-e046c9d56947"
   },
   "outputs": [
    {
     "name": "stderr",
     "output_type": "stream",
     "text": [
      "/Users/williamfoote/opt/anaconda3/lib/python3.9/site-packages/seaborn/_decorators.py:36: FutureWarning: Pass the following variables as keyword args: x, y. From version 0.12, the only valid positional argument will be `data`, and passing other arguments without an explicit keyword will result in an error or misinterpretation.\n",
      "  warnings.warn(\n"
     ]
    },
    {
     "data": {
      "image/png": "[encoded data removed]",
      "text/plain": [
       "<Figure size 432x288 with 1 Axes>"
      ]
     },
     "metadata": {
      "needs_background": "light"
     },
     "output_type": "display_data"
    }
   ],
   "source": [
    "sns.scatterplot(girls_wordle.loc[girls_wordle.phone_number == 'Varun', 'timestamp'],\n",
    "                girls_wordle.loc[girls_wordle.phone_number == 'Varun', 'HourMin'],\n",
    "                data = girls_wordle).set(\n",
    "                    title='Varun\\nTime over Time',\n",
    "                    xlabel='Date', ylabel='Hours from Midnight')\n",
    "\n",
    "plt.savefig('girls_wordle_isabelspeed.png', dpi=300, bbox_inches='tight')\n"
   ]
  },
  {
   "cell_type": "code",
   "execution_count": 82,
   "id": "ab14abab",
   "metadata": {
    "id": "ab14abab",
    "outputId": "680c93e4-2c25-4dc5-866b-b78696746f6f"
   },
   "outputs": [
    {
     "data": {
      "image/png": "[encoded data removed]",
      "text/plain": [
       "<Figure size 900x1200 with 12 Axes>"
      ]
     },
     "metadata": {},
     "output_type": "display_data"
    }
   ],
   "source": [
    "g = sns.FacetGrid(new, hue = 'name_2', col = 'name_2', col_wrap = 3)\n",
    "g.map(sns.scatterplot, \"timestamp\", \"time_from_mid\")\n",
    "\n",
    "# Add ticks to every subplot\n",
    "for ax in g.axes.flatten():\n",
    "    ax.tick_params(axis = 'x', labelbottom=True, rotation = 45)\n",
    "    \n",
    "    \n",
    "# Add labels to every subplot\n",
    "g.set(xlabel='', ylabel='Hours After Midnight')\n",
    "\n",
    "# Add an overall title and move it above the graphs\n",
    "g.fig.subplots_adjust(top=.9) \n",
    "g.fig.suptitle('Time to Finish Wordle vs. Date\\n(Lower Dots = Faster Fingers)', size = 16)\n",
    "\n",
    "[plt.setp(ax.texts, text=\"\") for ax in g.axes.flat] # remove the original texts\n",
    "                                                    # important to add this before setting titles\n",
    "g.set_titles(col_template = '{col_name}')\n",
    "\n",
    "# Editing labels and titles with plt\n",
    "\n",
    "# I want the date to be reformatted nicely on the x-axis ticks\n",
    "loc, labels = plt.xticks()\n",
    "plt.xticks(loc, ['Mar 1', 'May 1', 'Jul 1', 'Sep 1', 'Nov 1', 'Feb 1'])\n",
    "\n",
    "# And I want hours til midnight to be plotted on the y-axis ticks\n",
    "plt.yticks(np.arange(28, step = 4))\n",
    "plt.subplots_adjust(hspace=0.5, wspace=0.3)\n",
    "\n",
    "plt.savefig('girls_wordle_speed_scatter.png', dpi=300, bbox_inches='tight')\n"
   ]
  },
  {
   "cell_type": "code",
   "execution_count": null,
   "id": "9188afb1",
   "metadata": {
    "id": "9188afb1",
    "outputId": "63748fac-c69f-423e-de44-0e6806eb4976"
   },
   "outputs": [
    {
     "data": {
      "text/plain": [
       "['4/6']"
      ]
     },
     "execution_count": 25,
     "metadata": {},
     "output_type": "execute_result"
    }
   ],
   "source": [
    "d = cleaned.text\n",
    "re.findall(r\".\\/6\", d.iloc[0])"
   ]
  },
  {
   "cell_type": "code",
   "execution_count": null,
   "id": "7b7036dd",
   "metadata": {
    "id": "7b7036dd",
    "outputId": "84b2075e-9c7f-4224-caf7-5e78d4d1acac"
   },
   "outputs": [
    {
     "name": "stderr",
     "output_type": "stream",
     "text": [
      "/Users/williamfoote/opt/anaconda3/lib/python3.9/site-packages/seaborn/_decorators.py:36: FutureWarning: Pass the following variables as keyword args: x, y. From version 0.12, the only valid positional argument will be `data`, and passing other arguments without an explicit keyword will result in an error or misinterpretation.\n",
      "  warnings.warn(\n"
     ]
    },
    {
     "data": {
      "text/plain": [
       "<AxesSubplot:xlabel='HourMin', ylabel='score'>"
      ]
     },
     "execution_count": 26,
     "metadata": {},
     "output_type": "execute_result"
    },
    {
     "data": {
      "image/png": "[encoded data removed]",
      "text/plain": [
       "<Figure size 432x288 with 1 Axes>"
      ]
     },
     "metadata": {
      "needs_background": "light"
     },
     "output_type": "display_data"
    }
   ],
   "source": [
    "sns.scatterplot(girls_wordle.HourMin, girls_wordle.score, data = girls_wordle)"
   ]
  }
 ],
 "metadata": {
  "colab": {
   "provenance": []
  },
  "kernelspec": {
   "display_name": ".venv",
   "language": "python",
   "name": "python3"
  },
  "language_info": {
   "codemirror_mode": {
    "name": "ipython",
    "version": 3
   },
   "file_extension": ".py",
   "mimetype": "text/x-python",
   "name": "python",
   "nbconvert_exporter": "python",
   "pygments_lexer": "ipython3",
   "version": "3.10.9"
  },
  "vscode": {
   "interpreter": {
    "hash": "02ef184bdf01310be20e0538aeda5d28c2bbc83c4cc7b92824d187412d00882c"
   }
  }
 },
 "nbformat": 4,
 "nbformat_minor": 5
}
